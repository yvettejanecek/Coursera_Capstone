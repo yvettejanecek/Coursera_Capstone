{
    "cells": [
        {
            "cell_type": "markdown",
            "metadata": {
                "collapsed": true
            },
            "source": "# COURSERA CAPSTONE PROJECT"
        },
        {
            "cell_type": "markdown",
            "metadata": {},
            "source": "## Battle of the Neighboorhoods"
        },
        {
            "cell_type": "markdown",
            "metadata": {},
            "source": "### Section Alpha: Introduction\n"
        },
        {
            "cell_type": "markdown",
            "metadata": {},
            "source": "Description of Problem:  \n\nA couple has decided to relocate within the United States. They have created a list of requirements.  This list includes a population range of under 75,000 and a few community amenities, such as a grocery store, a library, a post office, a gym or outdoor recreation, and restaurants.  I am tasked with determining the cities and towns which fall within this desirable range.   "
        },
        {
            "cell_type": "code",
            "execution_count": 1,
            "metadata": {},
            "outputs": [
                {
                    "name": "stdout",
                    "output_type": "stream",
                    "text": "Solving environment: done\n\n## Package Plan ##\n\n  environment location: /opt/conda/envs/Python36\n\n  added / updated specs: \n    - folium=0.5.0\n\n\nThe following packages will be downloaded:\n\n    package                    |            build\n    ---------------------------|-----------------\n    openssl-1.1.1c             |       h516909a_0         2.1 MB  conda-forge\n    ca-certificates-2019.9.11  |       hecc5488_0         144 KB  conda-forge\n    branca-0.3.1               |             py_0          25 KB  conda-forge\n    vincent-0.4.4              |             py_1          28 KB  conda-forge\n    folium-0.5.0               |             py_0          45 KB  conda-forge\n    certifi-2019.9.11          |           py36_0         147 KB  conda-forge\n    altair-3.2.0               |           py36_0         770 KB  conda-forge\n    ------------------------------------------------------------\n                                           Total:         3.3 MB\n\nThe following NEW packages will be INSTALLED:\n\n    altair:          3.2.0-py36_0      conda-forge\n    branca:          0.3.1-py_0        conda-forge\n    folium:          0.5.0-py_0        conda-forge\n    vincent:         0.4.4-py_1        conda-forge\n\nThe following packages will be UPDATED:\n\n    ca-certificates: 2019.8.28-0                   --> 2019.9.11-hecc5488_0 conda-forge\n    certifi:         2019.9.11-py36_0              --> 2019.9.11-py36_0     conda-forge\n\nThe following packages will be DOWNGRADED:\n\n    openssl:         1.1.1d-h7b6447c_2             --> 1.1.1c-h516909a_0    conda-forge\n\n\nDownloading and Extracting Packages\nopenssl-1.1.1c       | 2.1 MB    | ##################################### | 100% \nca-certificates-2019 | 144 KB    | ##################################### | 100% \nbranca-0.3.1         | 25 KB     | ##################################### | 100% \nvincent-0.4.4        | 28 KB     | ##################################### | 100% \nfolium-0.5.0         | 45 KB     | ##################################### | 100% \ncertifi-2019.9.11    | 147 KB    | ##################################### | 100% \naltair-3.2.0         | 770 KB    | ##################################### | 100% \nPreparing transaction: done\nVerifying transaction: done\nExecuting transaction: done\nLIBRARIES IMPORTED.\n"
                }
            ],
            "source": "# import libraries\nimport numpy as np # for vectorized data\nimport pandas as pd # for data analsysis\npd.set_option('display.max_columns', None)\npd.set_option('display.max_rows', None)\n\nimport json # for JSON files\nimport requests # for requests\nfrom pandas.io.json import json_normalize # to tranform JSON file into a pandas dataframe\n\n#!conda install -c conda-forge geopy --yes # uncomment this line if you haven't completed the Foursquare API lab\n#from geopy.geocoders import Nominatim # to convert an address into latitude and longitude values\n\n!conda install -c conda-forge folium=0.5.0 --yes # uncomment this line if you haven't completed the Foursquare API lab\nimport folium # for map rendering\nfrom folium import plugins\n\nprint('LIBRARIES IMPORTED.')"
        },
        {
            "cell_type": "markdown",
            "metadata": {},
            "source": "### Section Beta:  Data"
        },
        {
            "cell_type": "markdown",
            "metadata": {},
            "source": "Data will be acquired from the U.S. Census Bureau to identify communities within the desired population range.  These metropolitan and micropolitan areas will then be passed through the Google Maps API in order to geocode each location by latitude and longitude.  Along the way, any missing data will be removed.  These coordinates will then be used in the Foursquare API, along with the venue categories selected by the couple, in order to acquire information regarding community amenities for each location.  Lastly, these will be mapped to aid in visualization.  "
        },
        {
            "cell_type": "markdown",
            "metadata": {},
            "source": "This product uses the Census Bureau Data API but is not endorsed or certified by the Census Bureau."
        },
        {
            "cell_type": "code",
            "execution_count": 2,
            "metadata": {},
            "outputs": [
                {
                    "data": {
                        "text/html": "<div>\n<style scoped>\n    .dataframe tbody tr th:only-of-type {\n        vertical-align: middle;\n    }\n\n    .dataframe tbody tr th {\n        vertical-align: top;\n    }\n\n    .dataframe thead th {\n        text-align: right;\n    }\n</style>\n<table border=\"1\" class=\"dataframe\">\n  <thead>\n    <tr style=\"text-align: right;\">\n      <th></th>\n      <th>0</th>\n      <th>1</th>\n      <th>2</th>\n    </tr>\n  </thead>\n  <tbody>\n    <tr>\n      <th>0</th>\n      <td>GEONAME</td>\n      <td>POP</td>\n      <td>metropolitan statistical area/micropolitan sta...</td>\n    </tr>\n    <tr>\n      <th>1</th>\n      <td>Aberdeen, SD Micro Area</td>\n      <td>43191</td>\n      <td>10100</td>\n    </tr>\n    <tr>\n      <th>2</th>\n      <td>Aberdeen, WA Micro Area</td>\n      <td>73901</td>\n      <td>10140</td>\n    </tr>\n    <tr>\n      <th>3</th>\n      <td>Abilene, TX Metro Area</td>\n      <td>171451</td>\n      <td>10180</td>\n    </tr>\n    <tr>\n      <th>4</th>\n      <td>Ada, OK Micro Area</td>\n      <td>38247</td>\n      <td>10220</td>\n    </tr>\n  </tbody>\n</table>\n</div>",
                        "text/plain": "                         0       1  \\\n0                  GEONAME     POP   \n1  Aberdeen, SD Micro Area   43191   \n2  Aberdeen, WA Micro Area   73901   \n3   Abilene, TX Metro Area  171451   \n4       Ada, OK Micro Area   38247   \n\n                                                   2  \n0  metropolitan statistical area/micropolitan sta...  \n1                                              10100  \n2                                              10140  \n3                                              10180  \n4                                              10220  "
                    },
                    "execution_count": 2,
                    "metadata": {},
                    "output_type": "execute_result"
                }
            ],
            "source": "#Census Bureau API Key and Call\nCensusBureau_Key = ''\nCensusBureau_url='https://api.census.gov/data/2018/pep/population?get=GEONAME,POP&for=metropolitan%20statistical%20area/micropolitan%20statistical%20area:*&key={}'.format(CensusBureau_Key)\n#create dataframe\ndf = pd.read_json(CensusBureau_url)\ndf.head()"
        },
        {
            "cell_type": "code",
            "execution_count": 3,
            "metadata": {
                "scrolled": true
            },
            "outputs": [
                {
                    "data": {
                        "text/html": "<div>\n<style scoped>\n    .dataframe tbody tr th:only-of-type {\n        vertical-align: middle;\n    }\n\n    .dataframe tbody tr th {\n        vertical-align: top;\n    }\n\n    .dataframe thead th {\n        text-align: right;\n    }\n</style>\n<table border=\"1\" class=\"dataframe\">\n  <thead>\n    <tr style=\"text-align: right;\">\n      <th></th>\n      <th>City</th>\n      <th>Population</th>\n    </tr>\n  </thead>\n  <tbody>\n    <tr>\n      <th>1</th>\n      <td>Aberdeen, SD Micro Area</td>\n      <td>43191</td>\n    </tr>\n    <tr>\n      <th>2</th>\n      <td>Aberdeen, WA Micro Area</td>\n      <td>73901</td>\n    </tr>\n    <tr>\n      <th>3</th>\n      <td>Abilene, TX Metro Area</td>\n      <td>171451</td>\n    </tr>\n    <tr>\n      <th>4</th>\n      <td>Ada, OK Micro Area</td>\n      <td>38247</td>\n    </tr>\n    <tr>\n      <th>5</th>\n      <td>Adjuntas, PR Micro Area</td>\n      <td>17302</td>\n    </tr>\n  </tbody>\n</table>\n</div>",
                        "text/plain": "                      City Population\n1  Aberdeen, SD Micro Area      43191\n2  Aberdeen, WA Micro Area      73901\n3   Abilene, TX Metro Area     171451\n4       Ada, OK Micro Area      38247\n5  Adjuntas, PR Micro Area      17302"
                    },
                    "execution_count": 3,
                    "metadata": {},
                    "output_type": "execute_result"
                }
            ],
            "source": "df = df.drop(columns =[2])\ndf.columns = [\"City\",\"Population\"]\ndf = df.drop(0)\ndf.head()"
        },
        {
            "cell_type": "code",
            "execution_count": 4,
            "metadata": {},
            "outputs": [
                {
                    "data": {
                        "text/plain": "City          object\nPopulation    object\ndtype: object"
                    },
                    "execution_count": 4,
                    "metadata": {},
                    "output_type": "execute_result"
                }
            ],
            "source": "df.dtypes"
        },
        {
            "cell_type": "code",
            "execution_count": 5,
            "metadata": {
                "scrolled": true
            },
            "outputs": [
                {
                    "data": {
                        "text/plain": "City          object\nPopulation     int64\ndtype: object"
                    },
                    "execution_count": 5,
                    "metadata": {},
                    "output_type": "execute_result"
                }
            ],
            "source": "df['Population']=df['Population'].astype(str).astype(int)\ndf['City']=df['City'].astype(str)\ndf.dtypes"
        },
        {
            "cell_type": "code",
            "execution_count": 6,
            "metadata": {
                "scrolled": true
            },
            "outputs": [
                {
                    "name": "stdout",
                    "output_type": "stream",
                    "text": "(475, 2)\n"
                },
                {
                    "data": {
                        "text/html": "<div>\n<style scoped>\n    .dataframe tbody tr th:only-of-type {\n        vertical-align: middle;\n    }\n\n    .dataframe tbody tr th {\n        vertical-align: top;\n    }\n\n    .dataframe thead th {\n        text-align: right;\n    }\n</style>\n<table border=\"1\" class=\"dataframe\">\n  <thead>\n    <tr style=\"text-align: right;\">\n      <th></th>\n      <th>City</th>\n      <th>Population</th>\n    </tr>\n  </thead>\n  <tbody>\n    <tr>\n      <th>1</th>\n      <td>Aberdeen, SD</td>\n      <td>43191</td>\n    </tr>\n    <tr>\n      <th>2</th>\n      <td>Aberdeen, WA</td>\n      <td>73901</td>\n    </tr>\n    <tr>\n      <th>4</th>\n      <td>Ada, OK</td>\n      <td>38247</td>\n    </tr>\n    <tr>\n      <th>5</th>\n      <td>Adjuntas, PR</td>\n      <td>17302</td>\n    </tr>\n    <tr>\n      <th>9</th>\n      <td>Alamogordo, N</td>\n      <td>66781</td>\n    </tr>\n  </tbody>\n</table>\n</div>",
                        "text/plain": "            City  Population\n1   Aberdeen, SD       43191\n2   Aberdeen, WA       73901\n4        Ada, OK       38247\n5   Adjuntas, PR       17302\n9  Alamogordo, N       66781"
                    },
                    "execution_count": 6,
                    "metadata": {},
                    "output_type": "execute_result"
                }
            ],
            "source": "df=df[df['Population']<=75000]\ndf['City']=df['City'].str.rstrip(' Area')\ndf['City']=df['City'].str.rstrip(' Micro')\ndf['City']=df['City'].str.rstrip(' Metro')\ndf.reset_index(drop=True)\nprint(df.shape)\ndf.head()"
        },
        {
            "cell_type": "code",
            "execution_count": 7,
            "metadata": {
                "scrolled": false
            },
            "outputs": [
                {
                    "name": "stdout",
                    "output_type": "stream",
                    "text": "(474, 2)\n"
                },
                {
                    "data": {
                        "text/html": "<div>\n<style scoped>\n    .dataframe tbody tr th:only-of-type {\n        vertical-align: middle;\n    }\n\n    .dataframe tbody tr th {\n        vertical-align: top;\n    }\n\n    .dataframe thead th {\n        text-align: right;\n    }\n</style>\n<table border=\"1\" class=\"dataframe\">\n  <thead>\n    <tr style=\"text-align: right;\">\n      <th></th>\n      <th>Latitude</th>\n      <th>Longitude</th>\n    </tr>\n  </thead>\n  <tbody>\n    <tr>\n      <th>0</th>\n      <td>45.464698</td>\n      <td>-98.486483</td>\n    </tr>\n    <tr>\n      <th>1</th>\n      <td>46.975371</td>\n      <td>-123.815722</td>\n    </tr>\n    <tr>\n      <th>2</th>\n      <td>34.774531</td>\n      <td>-96.678345</td>\n    </tr>\n    <tr>\n      <th>3</th>\n      <td>18.163485</td>\n      <td>-66.723158</td>\n    </tr>\n    <tr>\n      <th>4</th>\n      <td>32.899532</td>\n      <td>-105.960265</td>\n    </tr>\n  </tbody>\n</table>\n</div>",
                        "text/plain": "    Latitude   Longitude\n0  45.464698  -98.486483\n1  46.975371 -123.815722\n2  34.774531  -96.678345\n3  18.163485  -66.723158\n4  32.899532 -105.960265"
                    },
                    "execution_count": 7,
                    "metadata": {},
                    "output_type": "execute_result"
                }
            ],
            "source": "GoogleMaps_Key = '' # Google Maps API Key \n#create Google Maps API request url and append to dataframe\nlats=[] #create empty latitude list\nlngs=[] #create empty longitude list\nfor i in df['City']:\n    try:\n        GoogleMaps_url='https://maps.googleapis.com/maps/api/geocode/json?key={}&address={}'.format(GoogleMaps_Key,i)\n        response=requests.get(GoogleMaps_url).json()\n        coordinates=response['results'][0]['geometry']['location']\n        lats.append(coordinates['lat'])\n        lngs.append(coordinates['lng'])\n    except:\n        pass\ndf2=pd.DataFrame()\ndf2['Latitude']=lats\ndf2['Longitude']=lngs\ndf2.reset_index(drop=True)\nprint(df2.shape)\ndf2.head()"
        },
        {
            "cell_type": "code",
            "execution_count": 8,
            "metadata": {},
            "outputs": [],
            "source": "df.to_csv(r'F:\\dataframe.csv')\ndf2.to_csv(r'F:\\dataframe2.csv')"
        },
        {
            "cell_type": "code",
            "execution_count": 9,
            "metadata": {},
            "outputs": [
                {
                    "data": {
                        "text/html": "<div>\n<style scoped>\n    .dataframe tbody tr th:only-of-type {\n        vertical-align: middle;\n    }\n\n    .dataframe tbody tr th {\n        vertical-align: top;\n    }\n\n    .dataframe thead th {\n        text-align: right;\n    }\n</style>\n<table border=\"1\" class=\"dataframe\">\n  <thead>\n    <tr style=\"text-align: right;\">\n      <th></th>\n      <th>City</th>\n      <th>Population</th>\n      <th>Latitude</th>\n      <th>Longitude</th>\n    </tr>\n  </thead>\n  <tbody>\n    <tr>\n      <th>0</th>\n      <td>NaN</td>\n      <td>NaN</td>\n      <td>45.464698</td>\n      <td>-98.486483</td>\n    </tr>\n    <tr>\n      <th>1</th>\n      <td>Aberdeen, SD</td>\n      <td>43191.0</td>\n      <td>46.975371</td>\n      <td>-123.815722</td>\n    </tr>\n    <tr>\n      <th>2</th>\n      <td>Aberdeen, WA</td>\n      <td>73901.0</td>\n      <td>34.774531</td>\n      <td>-96.678345</td>\n    </tr>\n    <tr>\n      <th>3</th>\n      <td>NaN</td>\n      <td>NaN</td>\n      <td>18.163485</td>\n      <td>-66.723158</td>\n    </tr>\n    <tr>\n      <th>4</th>\n      <td>Ada, OK</td>\n      <td>38247.0</td>\n      <td>32.899532</td>\n      <td>-105.960265</td>\n    </tr>\n  </tbody>\n</table>\n</div>",
                        "text/plain": "           City  Population   Latitude   Longitude\n0           NaN         NaN  45.464698  -98.486483\n1  Aberdeen, SD     43191.0  46.975371 -123.815722\n2  Aberdeen, WA     73901.0  34.774531  -96.678345\n3           NaN         NaN  18.163485  -66.723158\n4       Ada, OK     38247.0  32.899532 -105.960265"
                    },
                    "execution_count": 9,
                    "metadata": {},
                    "output_type": "execute_result"
                }
            ],
            "source": "df_full=pd.concat([df, df2], axis = 1)\ndf_full.head()"
        },
        {
            "cell_type": "code",
            "execution_count": 10,
            "metadata": {},
            "outputs": [
                {
                    "name": "stdout",
                    "output_type": "stream",
                    "text": "(242, 4)\n"
                },
                {
                    "data": {
                        "text/html": "<div>\n<style scoped>\n    .dataframe tbody tr th:only-of-type {\n        vertical-align: middle;\n    }\n\n    .dataframe tbody tr th {\n        vertical-align: top;\n    }\n\n    .dataframe thead th {\n        text-align: right;\n    }\n</style>\n<table border=\"1\" class=\"dataframe\">\n  <thead>\n    <tr style=\"text-align: right;\">\n      <th></th>\n      <th>City</th>\n      <th>Population</th>\n      <th>Latitude</th>\n      <th>Longitude</th>\n    </tr>\n  </thead>\n  <tbody>\n    <tr>\n      <th>1</th>\n      <td>Aberdeen, SD</td>\n      <td>43191.0</td>\n      <td>46.975371</td>\n      <td>-123.815722</td>\n    </tr>\n    <tr>\n      <th>2</th>\n      <td>Aberdeen, WA</td>\n      <td>73901.0</td>\n      <td>34.774531</td>\n      <td>-96.678345</td>\n    </tr>\n    <tr>\n      <th>4</th>\n      <td>Ada, OK</td>\n      <td>38247.0</td>\n      <td>32.899532</td>\n      <td>-105.960265</td>\n    </tr>\n    <tr>\n      <th>5</th>\n      <td>Adjuntas, PR</td>\n      <td>17302.0</td>\n      <td>35.350143</td>\n      <td>-80.200058</td>\n    </tr>\n    <tr>\n      <th>9</th>\n      <td>Alamogordo, N</td>\n      <td>66781.0</td>\n      <td>27.752249</td>\n      <td>-98.069725</td>\n    </tr>\n  </tbody>\n</table>\n</div>",
                        "text/plain": "            City  Population   Latitude   Longitude\n1   Aberdeen, SD     43191.0  46.975371 -123.815722\n2   Aberdeen, WA     73901.0  34.774531  -96.678345\n4        Ada, OK     38247.0  32.899532 -105.960265\n5   Adjuntas, PR     17302.0  35.350143  -80.200058\n9  Alamogordo, N     66781.0  27.752249  -98.069725"
                    },
                    "execution_count": 10,
                    "metadata": {},
                    "output_type": "execute_result"
                }
            ],
            "source": "df_full.dropna(how='any', inplace=True)\ndf_full.reset_index(drop=True)\nprint(df_full.shape)\ndf_full.head()"
        },
        {
            "cell_type": "code",
            "execution_count": 11,
            "metadata": {},
            "outputs": [
                {
                    "name": "stdout",
                    "output_type": "stream",
                    "text": "4bf58dd8d48988d118951735,4d4b7105d754a06374d81259,4bf58dd8d48988d12f941735,4d4b7105d754a06377d81259,4bf58dd8d48988d172941735\n"
                }
            ],
            "source": "#create category list\n#Grocery Store 4bf58dd8d48988d118951735\n#Food 4d4b7105d754a06374d81259\n#Library 4bf58dd8d48988d12f941735\n#Outdoors & Recreations 4d4b7105d754a06377d81259\n#Post Office 4bf58dd8d48988d172941735\n\nCategoryIds=['4bf58dd8d48988d118951735','4d4b7105d754a06374d81259','4bf58dd8d48988d12f941735','4d4b7105d754a06377d81259','4bf58dd8d48988d172941735']\ncategoryId=','.join(CategoryIds)\nprint(categoryId)"
        },
        {
            "cell_type": "code",
            "execution_count": 12,
            "metadata": {
                "scrolled": true
            },
            "outputs": [
                {
                    "name": "stdout",
                    "output_type": "stream",
                    "text": "(226, 6)\n"
                },
                {
                    "data": {
                        "text/html": "<div>\n<style scoped>\n    .dataframe tbody tr th:only-of-type {\n        vertical-align: middle;\n    }\n\n    .dataframe tbody tr th {\n        vertical-align: top;\n    }\n\n    .dataframe thead th {\n        text-align: right;\n    }\n</style>\n<table border=\"1\" class=\"dataframe\">\n  <thead>\n    <tr style=\"text-align: right;\">\n      <th></th>\n      <th>City</th>\n      <th>State</th>\n      <th>Latitude</th>\n      <th>Longitude</th>\n      <th>Venue</th>\n      <th>Category</th>\n    </tr>\n  </thead>\n  <tbody>\n    <tr>\n      <th>0</th>\n      <td>Ada</td>\n      <td>OK</td>\n      <td>34.774531</td>\n      <td>-96.678345</td>\n      <td>House of Health</td>\n      <td>Food</td>\n    </tr>\n    <tr>\n      <th>1</th>\n      <td>Alamogordo</td>\n      <td>NM</td>\n      <td>32.899532</td>\n      <td>-105.960265</td>\n      <td>Roswell Baking Co</td>\n      <td>Bakery</td>\n    </tr>\n    <tr>\n      <th>2</th>\n      <td>Americus</td>\n      <td>GA</td>\n      <td>32.072386</td>\n      <td>-84.232688</td>\n      <td>Terri's Market and Eatery</td>\n      <td>Food</td>\n    </tr>\n    <tr>\n      <th>3</th>\n      <td>Americus</td>\n      <td>GA</td>\n      <td>32.072386</td>\n      <td>-84.232688</td>\n      <td>J J's Wings &amp; Things</td>\n      <td>Burger Joint</td>\n    </tr>\n    <tr>\n      <th>4</th>\n      <td>Amsterdam</td>\n      <td>NY</td>\n      <td>42.937745</td>\n      <td>-74.190356</td>\n      <td>Riverside Pizza</td>\n      <td>Pizza Place</td>\n    </tr>\n  </tbody>\n</table>\n</div>",
                        "text/plain": "         City State   Latitude   Longitude                      Venue  \\\n0         Ada    OK  34.774531  -96.678345            House of Health   \n1  Alamogordo    NM  32.899532 -105.960265          Roswell Baking Co   \n2    Americus    GA  32.072386  -84.232688  Terri's Market and Eatery   \n3    Americus    GA  32.072386  -84.232688       J J's Wings & Things   \n4   Amsterdam    NY  42.937745  -74.190356            Riverside Pizza   \n\n       Category  \n0          Food  \n1        Bakery  \n2          Food  \n3  Burger Joint  \n4   Pizza Place  "
                    },
                    "execution_count": 12,
                    "metadata": {},
                    "output_type": "execute_result"
                }
            ],
            "source": "client_id = '' # Foursquare API ID\nclient_secret = '' # Foursquare API Secret\nversion = '20190810' # Foursquare API version YYYYMMDD\nradius = 50 # define radius\nlimit = 100 # limit the number of venues returned by Foursquare API\n# create URL and call\n\nvenues_list=[]\nfor lat, lon, in zip(df_full['Latitude'],df_full['Longitude']):\n    FourSquare_url = 'https://api.foursquare.com/v2/venues/explore?&client_id={}&client_secret={}&v={}&ll={},{}&radius={}&categoryId={}&limit={}'.format(\n        client_id,\n        client_secret, \n        version, \n        lat,\n        lon,\n        radius, \n        categoryId,\n        limit)\n        \n    results2=requests.get(FourSquare_url).json()['response']['groups'][0]['items']\n    \n    for item in results2:\n        venue_name=item['venue']['name']\n        venue_category=item['venue']['categories'][0]['name']\n        try:\n            venue_city=item['venue']['location']['city']\n        except:\n            venue_city='N/A'\n        venue_state=item['venue']['location']['state']\n        \n        venues_list.append([(\n                venue_city,\n                venue_state,\n                lat,\n                lon,\n                venue_name,\n                venue_category)])\n            \n\nvenues_df=pd.DataFrame([item for venue_list in venues_list for item in venue_list])\nvenues_df.columns=[\"City\",\"State\",\"Latitude\",\"Longitude\",\"Venue\",\"Category\"]\nprint(venues_df.shape)\nvenues_df.head()"
        },
        {
            "cell_type": "code",
            "execution_count": 13,
            "metadata": {},
            "outputs": [],
            "source": "venues_df.to_csv(r'F:\\dataframevenues.csv')"
        },
        {
            "cell_type": "markdown",
            "metadata": {},
            "source": "### Section Gamma: Methodology"
        },
        {
            "cell_type": "markdown",
            "metadata": {},
            "source": "Data from the U.S. Census Bureau was initially loaded using Census Bureau Data API.  This data included all metropolitan and micropolitan areas and their population information from 2018.  This data was cleaned then reduced to areas with a population less than or equal to 75,000.  The metropolitan and micropolitan areas, or cities, were passed through the Google Maps API in order to acquire latitude and longitude for each city.  Once this was done, the latitude and longitude coordinates were passed through the Foursquare API along with the categories IDs identified by the couple as significant.  "
        },
        {
            "cell_type": "code",
            "execution_count": 14,
            "metadata": {
                "scrolled": true
            },
            "outputs": [
                {
                    "name": "stdout",
                    "output_type": "stream",
                    "text": "(226, 6)\n"
                },
                {
                    "data": {
                        "text/html": "<div>\n<style scoped>\n    .dataframe tbody tr th:only-of-type {\n        vertical-align: middle;\n    }\n\n    .dataframe tbody tr th {\n        vertical-align: top;\n    }\n\n    .dataframe thead th {\n        text-align: right;\n    }\n</style>\n<table border=\"1\" class=\"dataframe\">\n  <thead>\n    <tr style=\"text-align: right;\">\n      <th></th>\n      <th>City</th>\n      <th>State</th>\n      <th>Latitude</th>\n      <th>Longitude</th>\n      <th>Venue</th>\n      <th>Category</th>\n    </tr>\n  </thead>\n  <tbody>\n    <tr>\n      <th>0</th>\n      <td>Ada</td>\n      <td>OK</td>\n      <td>34.774531</td>\n      <td>-96.678345</td>\n      <td>House of Health</td>\n      <td>Food</td>\n    </tr>\n    <tr>\n      <th>1</th>\n      <td>Alamogordo</td>\n      <td>NM</td>\n      <td>32.899532</td>\n      <td>-105.960265</td>\n      <td>Roswell Baking Co</td>\n      <td>Bakery</td>\n    </tr>\n    <tr>\n      <th>2</th>\n      <td>Americus</td>\n      <td>GA</td>\n      <td>32.072386</td>\n      <td>-84.232688</td>\n      <td>Terri's Market and Eatery</td>\n      <td>Food</td>\n    </tr>\n    <tr>\n      <th>3</th>\n      <td>Americus</td>\n      <td>GA</td>\n      <td>32.072386</td>\n      <td>-84.232688</td>\n      <td>J J's Wings &amp; Things</td>\n      <td>Burger Joint</td>\n    </tr>\n    <tr>\n      <th>4</th>\n      <td>Amsterdam</td>\n      <td>NY</td>\n      <td>42.937745</td>\n      <td>-74.190356</td>\n      <td>Riverside Pizza</td>\n      <td>Pizza Place</td>\n    </tr>\n  </tbody>\n</table>\n</div>",
                        "text/plain": "         City State   Latitude   Longitude                      Venue  \\\n0         Ada    OK  34.774531  -96.678345            House of Health   \n1  Alamogordo    NM  32.899532 -105.960265          Roswell Baking Co   \n2    Americus    GA  32.072386  -84.232688  Terri's Market and Eatery   \n3    Americus    GA  32.072386  -84.232688       J J's Wings & Things   \n4   Amsterdam    NY  42.937745  -74.190356            Riverside Pizza   \n\n       Category  \n0          Food  \n1        Bakery  \n2          Food  \n3  Burger Joint  \n4   Pizza Place  "
                    },
                    "execution_count": 14,
                    "metadata": {},
                    "output_type": "execute_result"
                }
            ],
            "source": "venues_df.groupby('City')['City'].count().sort_values(ascending=False)\nprint(venues_df.shape)\nvenues_df.head()"
        },
        {
            "cell_type": "markdown",
            "metadata": {},
            "source": "### Section Delta:  Results"
        },
        {
            "cell_type": "markdown",
            "metadata": {},
            "source": "The resulting data shows 226 locations which are home to one or more amenities requested by the couple, and thus, are locations of interest to the couple.  These locations have been organized to show the cities with the most amenities first.  The top twenty-five locations are mapped below."
        },
        {
            "cell_type": "code",
            "execution_count": 15,
            "metadata": {},
            "outputs": [],
            "source": "venues_df_top=venues_df.iloc[0:25]"
        },
        {
            "cell_type": "code",
            "execution_count": 16,
            "metadata": {
                "scrolled": true
            },
            "outputs": [
                {
                    "data": {
                        "text/html": "<div style=\"width:100%;\"><div style=\"position:relative;width:100%;height:0;padding-bottom:60%;\"><iframe src=\"data:text/html;charset=utf-8;base64,PCFET0NUWVBFIGh0bWw+CjxoZWFkPiAgICAKICAgIDxtZXRhIGh0dHAtZXF1aXY9ImNvbnRlbnQtdHlwZSIgY29udGVudD0idGV4dC9odG1sOyBjaGFyc2V0PVVURi04IiAvPgogICAgPHNjcmlwdD5MX1BSRUZFUl9DQU5WQVMgPSBmYWxzZTsgTF9OT19UT1VDSCA9IGZhbHNlOyBMX0RJU0FCTEVfM0QgPSBmYWxzZTs8L3NjcmlwdD4KICAgIDxzY3JpcHQgc3JjPSJodHRwczovL2Nkbi5qc2RlbGl2ci5uZXQvbnBtL2xlYWZsZXRAMS4yLjAvZGlzdC9sZWFmbGV0LmpzIj48L3NjcmlwdD4KICAgIDxzY3JpcHQgc3JjPSJodHRwczovL2FqYXguZ29vZ2xlYXBpcy5jb20vYWpheC9saWJzL2pxdWVyeS8xLjExLjEvanF1ZXJ5Lm1pbi5qcyI+PC9zY3JpcHQ+CiAgICA8c2NyaXB0IHNyYz0iaHR0cHM6Ly9tYXhjZG4uYm9vdHN0cmFwY2RuLmNvbS9ib290c3RyYXAvMy4yLjAvanMvYm9vdHN0cmFwLm1pbi5qcyI+PC9zY3JpcHQ+CiAgICA8c2NyaXB0IHNyYz0iaHR0cHM6Ly9jZG5qcy5jbG91ZGZsYXJlLmNvbS9hamF4L2xpYnMvTGVhZmxldC5hd2Vzb21lLW1hcmtlcnMvMi4wLjIvbGVhZmxldC5hd2Vzb21lLW1hcmtlcnMuanMiPjwvc2NyaXB0PgogICAgPGxpbmsgcmVsPSJzdHlsZXNoZWV0IiBocmVmPSJodHRwczovL2Nkbi5qc2RlbGl2ci5uZXQvbnBtL2xlYWZsZXRAMS4yLjAvZGlzdC9sZWFmbGV0LmNzcyIvPgogICAgPGxpbmsgcmVsPSJzdHlsZXNoZWV0IiBocmVmPSJodHRwczovL21heGNkbi5ib290c3RyYXBjZG4uY29tL2Jvb3RzdHJhcC8zLjIuMC9jc3MvYm9vdHN0cmFwLm1pbi5jc3MiLz4KICAgIDxsaW5rIHJlbD0ic3R5bGVzaGVldCIgaHJlZj0iaHR0cHM6Ly9tYXhjZG4uYm9vdHN0cmFwY2RuLmNvbS9ib290c3RyYXAvMy4yLjAvY3NzL2Jvb3RzdHJhcC10aGVtZS5taW4uY3NzIi8+CiAgICA8bGluayByZWw9InN0eWxlc2hlZXQiIGhyZWY9Imh0dHBzOi8vbWF4Y2RuLmJvb3RzdHJhcGNkbi5jb20vZm9udC1hd2Vzb21lLzQuNi4zL2Nzcy9mb250LWF3ZXNvbWUubWluLmNzcyIvPgogICAgPGxpbmsgcmVsPSJzdHlsZXNoZWV0IiBocmVmPSJodHRwczovL2NkbmpzLmNsb3VkZmxhcmUuY29tL2FqYXgvbGlicy9MZWFmbGV0LmF3ZXNvbWUtbWFya2Vycy8yLjAuMi9sZWFmbGV0LmF3ZXNvbWUtbWFya2Vycy5jc3MiLz4KICAgIDxsaW5rIHJlbD0ic3R5bGVzaGVldCIgaHJlZj0iaHR0cHM6Ly9yYXdnaXQuY29tL3B5dGhvbi12aXN1YWxpemF0aW9uL2ZvbGl1bS9tYXN0ZXIvZm9saXVtL3RlbXBsYXRlcy9sZWFmbGV0LmF3ZXNvbWUucm90YXRlLmNzcyIvPgogICAgPHN0eWxlPmh0bWwsIGJvZHkge3dpZHRoOiAxMDAlO2hlaWdodDogMTAwJTttYXJnaW46IDA7cGFkZGluZzogMDt9PC9zdHlsZT4KICAgIDxzdHlsZT4jbWFwIHtwb3NpdGlvbjphYnNvbHV0ZTt0b3A6MDtib3R0b206MDtyaWdodDowO2xlZnQ6MDt9PC9zdHlsZT4KICAgIAogICAgICAgICAgICA8c3R5bGU+ICNtYXBfMGMwNWYyMDM4YWQ3NDhlOGJkMzY4Y2JlNDVmMWFlNzMgewogICAgICAgICAgICAgICAgcG9zaXRpb24gOiByZWxhdGl2ZTsKICAgICAgICAgICAgICAgIHdpZHRoIDogMTAwLjAlOwogICAgICAgICAgICAgICAgaGVpZ2h0OiAxMDAuMCU7CiAgICAgICAgICAgICAgICBsZWZ0OiAwLjAlOwogICAgICAgICAgICAgICAgdG9wOiAwLjAlOwogICAgICAgICAgICAgICAgfQogICAgICAgICAgICA8L3N0eWxlPgogICAgICAgIAo8L2hlYWQ+Cjxib2R5PiAgICAKICAgIAogICAgICAgICAgICA8ZGl2IGNsYXNzPSJmb2xpdW0tbWFwIiBpZD0ibWFwXzBjMDVmMjAzOGFkNzQ4ZThiZDM2OGNiZTQ1ZjFhZTczIiA+PC9kaXY+CiAgICAgICAgCjwvYm9keT4KPHNjcmlwdD4gICAgCiAgICAKCiAgICAgICAgICAgIAogICAgICAgICAgICAgICAgdmFyIGJvdW5kcyA9IG51bGw7CiAgICAgICAgICAgIAoKICAgICAgICAgICAgdmFyIG1hcF8wYzA1ZjIwMzhhZDc0OGU4YmQzNjhjYmU0NWYxYWU3MyA9IEwubWFwKAogICAgICAgICAgICAgICAgICAgICAgICAgICAgICAgICAgJ21hcF8wYzA1ZjIwMzhhZDc0OGU4YmQzNjhjYmU0NWYxYWU3MycsCiAgICAgICAgICAgICAgICAgICAgICAgICAgICAgICAgICB7Y2VudGVyOiBbMzkuOCwtOTguNl0sCiAgICAgICAgICAgICAgICAgICAgICAgICAgICAgICAgICB6b29tOiAxMCwKICAgICAgICAgICAgICAgICAgICAgICAgICAgICAgICAgIG1heEJvdW5kczogYm91bmRzLAogICAgICAgICAgICAgICAgICAgICAgICAgICAgICAgICAgbGF5ZXJzOiBbXSwKICAgICAgICAgICAgICAgICAgICAgICAgICAgICAgICAgIHdvcmxkQ29weUp1bXA6IGZhbHNlLAogICAgICAgICAgICAgICAgICAgICAgICAgICAgICAgICAgY3JzOiBMLkNSUy5FUFNHMzg1NwogICAgICAgICAgICAgICAgICAgICAgICAgICAgICAgICB9KTsKICAgICAgICAgICAgCiAgICAgICAgCiAgICAKICAgICAgICAgICAgdmFyIHRpbGVfbGF5ZXJfMzk4MDg3YjZhYjhjNDQyYWIwMTk1ZmViMDQ3M2IxYzggPSBMLnRpbGVMYXllcigKICAgICAgICAgICAgICAgICdodHRwczovL3tzfS50aWxlLm9wZW5zdHJlZXRtYXAub3JnL3t6fS97eH0ve3l9LnBuZycsCiAgICAgICAgICAgICAgICB7CiAgImF0dHJpYnV0aW9uIjogbnVsbCwKICAiZGV0ZWN0UmV0aW5hIjogZmFsc2UsCiAgIm1heFpvb20iOiAxOCwKICAibWluWm9vbSI6IDEsCiAgIm5vV3JhcCI6IGZhbHNlLAogICJzdWJkb21haW5zIjogImFiYyIKfQogICAgICAgICAgICAgICAgKS5hZGRUbyhtYXBfMGMwNWYyMDM4YWQ3NDhlOGJkMzY4Y2JlNDVmMWFlNzMpOwogICAgICAgIAogICAgCgogICAgICAgICAgICB2YXIgbWFya2VyXzNhZjI3MjE2YWU1ZDQ0YTFiNGQxZDU1MTcwMDY1MzJmID0gTC5tYXJrZXIoCiAgICAgICAgICAgICAgICBbMzQuNzc0NTMxLC05Ni42NzgzNDQ5XSwKICAgICAgICAgICAgICAgIHsKICAgICAgICAgICAgICAgICAgICBpY29uOiBuZXcgTC5JY29uLkRlZmF1bHQoKQogICAgICAgICAgICAgICAgICAgIH0KICAgICAgICAgICAgICAgICkKICAgICAgICAgICAgICAgIC5hZGRUbyhtYXBfMGMwNWYyMDM4YWQ3NDhlOGJkMzY4Y2JlNDVmMWFlNzMpOwogICAgICAgICAgICAKICAgIAoKICAgICAgICAgICAgdmFyIG1hcmtlcl8xNDRiMjIwYzQ3ZDg0YzIwODJjYmNmZTE4ODkxODg3YSA9IEwubWFya2VyKAogICAgICAgICAgICAgICAgWzMyLjg5OTUzMjUsLTEwNS45NjAyNjVdLAogICAgICAgICAgICAgICAgewogICAgICAgICAgICAgICAgICAgIGljb246IG5ldyBMLkljb24uRGVmYXVsdCgpCiAgICAgICAgICAgICAgICAgICAgfQogICAgICAgICAgICAgICAgKQogICAgICAgICAgICAgICAgLmFkZFRvKG1hcF8wYzA1ZjIwMzhhZDc0OGU4YmQzNjhjYmU0NWYxYWU3Myk7CiAgICAgICAgICAgIAogICAgCgogICAgICAgICAgICB2YXIgbWFya2VyX2YyYjMyZjg3YmNmZjQ2YmM4MTNiNDJjZDg4NzFkYzc2ID0gTC5tYXJrZXIoCiAgICAgICAgICAgICAgICBbMzIuMDcyMzg2MSwtODQuMjMyNjg3NTk5OTk5OTldLAogICAgICAgICAgICAgICAgewogICAgICAgICAgICAgICAgICAgIGljb246IG5ldyBMLkljb24uRGVmYXVsdCgpCiAgICAgICAgICAgICAgICAgICAgfQogICAgICAgICAgICAgICAgKQogICAgICAgICAgICAgICAgLmFkZFRvKG1hcF8wYzA1ZjIwMzhhZDc0OGU4YmQzNjhjYmU0NWYxYWU3Myk7CiAgICAgICAgICAgIAogICAgCgogICAgICAgICAgICB2YXIgbWFya2VyXzBjZTFjZGE3NjliMDQzNDU5OGE2ZjllMGJjMzM0N2FlID0gTC5tYXJrZXIoCiAgICAgICAgICAgICAgICBbMzIuMDcyMzg2MSwtODQuMjMyNjg3NTk5OTk5OTldLAogICAgICAgICAgICAgICAgewogICAgICAgICAgICAgICAgICAgIGljb246IG5ldyBMLkljb24uRGVmYXVsdCgpCiAgICAgICAgICAgICAgICAgICAgfQogICAgICAgICAgICAgICAgKQogICAgICAgICAgICAgICAgLmFkZFRvKG1hcF8wYzA1ZjIwMzhhZDc0OGU4YmQzNjhjYmU0NWYxYWU3Myk7CiAgICAgICAgICAgIAogICAgCgogICAgICAgICAgICB2YXIgbWFya2VyXzEyYWFhM2MzZGY1YjRiODFhYjM1M2IyOTEwODk4ZjE4ID0gTC5tYXJrZXIoCiAgICAgICAgICAgICAgICBbNDIuOTM3NzQ1MywtNzQuMTkwMzU2XSwKICAgICAgICAgICAgICAgIHsKICAgICAgICAgICAgICAgICAgICBpY29uOiBuZXcgTC5JY29uLkRlZmF1bHQoKQogICAgICAgICAgICAgICAgICAgIH0KICAgICAgICAgICAgICAgICkKICAgICAgICAgICAgICAgIC5hZGRUbyhtYXBfMGMwNWYyMDM4YWQ3NDhlOGJkMzY4Y2JlNDVmMWFlNzMpOwogICAgICAgICAgICAKICAgIAoKICAgICAgICAgICAgdmFyIG1hcmtlcl9lYTQxODk2YTkwNWE0OTc1ODMzYTdlOGY4MDc3YjM1MCA9IEwubWFya2VyKAogICAgICAgICAgICAgICAgWzQ2LjE4Nzg4NDEsLTEyMy44MzEyNTM0XSwKICAgICAgICAgICAgICAgIHsKICAgICAgICAgICAgICAgICAgICBpY29uOiBuZXcgTC5JY29uLkRlZmF1bHQoKQogICAgICAgICAgICAgICAgICAgIH0KICAgICAgICAgICAgICAgICkKICAgICAgICAgICAgICAgIC5hZGRUbyhtYXBfMGMwNWYyMDM4YWQ3NDhlOGJkMzY4Y2JlNDVmMWFlNzMpOwogICAgICAgICAgICAKICAgIAoKICAgICAgICAgICAgdmFyIG1hcmtlcl9iYzA2MThiOWQ3YWY0MmY4Yjk2M2JkNTUxNWJiMjRmMyA9IEwubWFya2VyKAogICAgICAgICAgICAgICAgWzQ2LjE4Nzg4NDEsLTEyMy44MzEyNTM0XSwKICAgICAgICAgICAgICAgIHsKICAgICAgICAgICAgICAgICAgICBpY29uOiBuZXcgTC5JY29uLkRlZmF1bHQoKQogICAgICAgICAgICAgICAgICAgIH0KICAgICAgICAgICAgICAgICkKICAgICAgICAgICAgICAgIC5hZGRUbyhtYXBfMGMwNWYyMDM4YWQ3NDhlOGJkMzY4Y2JlNDVmMWFlNzMpOwogICAgICAgICAgICAKICAgIAoKICAgICAgICAgICAgdmFyIG1hcmtlcl8zODJhMzU2ZjYwNDI0ZDlmYjMxNzA0ZWMxZGRiMzE4MSA9IEwubWFya2VyKAogICAgICAgICAgICAgICAgWzQ2LjE4Nzg4NDEsLTEyMy44MzEyNTM0XSwKICAgICAgICAgICAgICAgIHsKICAgICAgICAgICAgICAgICAgICBpY29uOiBuZXcgTC5JY29uLkRlZmF1bHQoKQogICAgICAgICAgICAgICAgICAgIH0KICAgICAgICAgICAgICAgICkKICAgICAgICAgICAgICAgIC5hZGRUbyhtYXBfMGMwNWYyMDM4YWQ3NDhlOGJkMzY4Y2JlNDVmMWFlNzMpOwogICAgICAgICAgICAKICAgIAoKICAgICAgICAgICAgdmFyIG1hcmtlcl9mZjcwZjllNTk5OWQ0MDhkODNkMjQxZWJkOWYwZWRkNyA9IEwubWFya2VyKAogICAgICAgICAgICAgICAgWzM1LjQ0Mjg1MTIsLTg0LjU5Mjk4OThdLAogICAgICAgICAgICAgICAgewogICAgICAgICAgICAgICAgICAgIGljb246IG5ldyBMLkljb24uRGVmYXVsdCgpCiAgICAgICAgICAgICAgICAgICAgfQogICAgICAgICAgICAgICAgKQogICAgICAgICAgICAgICAgLmFkZFRvKG1hcF8wYzA1ZjIwMzhhZDc0OGU4YmQzNjhjYmU0NWYxYWU3Myk7CiAgICAgICAgICAgIAogICAgCgogICAgICAgICAgICB2YXIgbWFya2VyX2M1N2IzZjE3NGM4OTQ1ZDk5Y2NiMDZmZmFiYjZmMjA5ID0gTC5tYXJrZXIoCiAgICAgICAgICAgICAgICBbNDEuMzY2OTk0MiwtODUuMDU4ODU3NV0sCiAgICAgICAgICAgICAgICB7CiAgICAgICAgICAgICAgICAgICAgaWNvbjogbmV3IEwuSWNvbi5EZWZhdWx0KCkKICAgICAgICAgICAgICAgICAgICB9CiAgICAgICAgICAgICAgICApCiAgICAgICAgICAgICAgICAuYWRkVG8obWFwXzBjMDVmMjAzOGFkNzQ4ZThiZDM2OGNiZTQ1ZjFhZTczKTsKICAgICAgICAgICAgCiAgICAKCiAgICAgICAgICAgIHZhciBtYXJrZXJfMmZkODAyNzFhZWVlNGQ4MzlhZjBhYmNlNDMxZGVlYWQgPSBMLm1hcmtlcigKICAgICAgICAgICAgICAgIFszMC45MDM3OTk1LC04NC41NzU0Njk5MDAwMDAwMl0sCiAgICAgICAgICAgICAgICB7CiAgICAgICAgICAgICAgICAgICAgaWNvbjogbmV3IEwuSWNvbi5EZWZhdWx0KCkKICAgICAgICAgICAgICAgICAgICB9CiAgICAgICAgICAgICAgICApCiAgICAgICAgICAgICAgICAuYWRkVG8obWFwXzBjMDVmMjAzOGFkNzQ4ZThiZDM2OGNiZTQ1ZjFhZTczKTsKICAgICAgICAgICAgCiAgICAKCiAgICAgICAgICAgIHZhciBtYXJrZXJfOGQ3ZTBjMTc2ZDFmNDAyMzgxM2JmYjRjNzA3OGFkODAgPSBMLm1hcmtlcigKICAgICAgICAgICAgICAgIFszMC45MDM3OTk1LC04NC41NzU0Njk5MDAwMDAwMl0sCiAgICAgICAgICAgICAgICB7CiAgICAgICAgICAgICAgICAgICAgaWNvbjogbmV3IEwuSWNvbi5EZWZhdWx0KCkKICAgICAgICAgICAgICAgICAgICB9CiAgICAgICAgICAgICAgICApCiAgICAgICAgICAgICAgICAuYWRkVG8obWFwXzBjMDVmMjAzOGFkNzQ4ZThiZDM2OGNiZTQ1ZjFhZTczKTsKICAgICAgICAgICAgCiAgICAKCiAgICAgICAgICAgIHZhciBtYXJrZXJfOTZkZDIxNDJkNjRhNDIyMWFjYzQxNWFmNGZiOTRiOWIgPSBMLm1hcmtlcigKICAgICAgICAgICAgICAgIFszMC45MDM3OTk1LC04NC41NzU0Njk5MDAwMDAwMl0sCiAgICAgICAgICAgICAgICB7CiAgICAgICAgICAgICAgICAgICAgaWNvbjogbmV3IEwuSWNvbi5EZWZhdWx0KCkKICAgICAgICAgICAgICAgICAgICB9CiAgICAgICAgICAgICAgICApCiAgICAgICAgICAgICAgICAuYWRkVG8obWFwXzBjMDVmMjAzOGFkNzQ4ZThiZDM2OGNiZTQ1ZjFhZTczKTsKICAgICAgICAgICAgCiAgICAKCiAgICAgICAgICAgIHZhciBtYXJrZXJfMGExNWZkYjU1YmI5NGRjMzkyODJkODA1ZjJhOGU1NTEgPSBMLm1hcmtlcigKICAgICAgICAgICAgICAgIFszMC45MDM3OTk1LC04NC41NzU0Njk5MDAwMDAwMl0sCiAgICAgICAgICAgICAgICB7CiAgICAgICAgICAgICAgICAgICAgaWNvbjogbmV3IEwuSWNvbi5EZWZhdWx0KCkKICAgICAgICAgICAgICAgICAgICB9CiAgICAgICAgICAgICAgICApCiAgICAgICAgICAgICAgICAuYWRkVG8obWFwXzBjMDVmMjAzOGFkNzQ4ZThiZDM2OGNiZTQ1ZjFhZTczKTsKICAgICAgICAgICAgCiAgICAKCiAgICAgICAgICAgIHZhciBtYXJrZXJfYmQ1ODU4ZjI5N2JkNGY3ODg2ZTAxZGZjMWQyZjZhZDcgPSBMLm1hcmtlcigKICAgICAgICAgICAgICAgIFszNy44MDkyMjc5LC04NS40NjY5MDI0OTk5OTk5OV0sCiAgICAgICAgICAgICAgICB7CiAgICAgICAgICAgICAgICAgICAgaWNvbjogbmV3IEwuSWNvbi5EZWZhdWx0KCkKICAgICAgICAgICAgICAgICAgICB9CiAgICAgICAgICAgICAgICApCiAgICAgICAgICAgICAgICAuYWRkVG8obWFwXzBjMDVmMjAzOGFkNzQ4ZThiZDM2OGNiZTQ1ZjFhZTczKTsKICAgICAgICAgICAgCiAgICAKCiAgICAgICAgICAgIHZhciBtYXJrZXJfM2JhZjU2Mzk3Y2YxNDk2YzkyZjRhYTNiOTFkNmQxYjggPSBMLm1hcmtlcigKICAgICAgICAgICAgICAgIFs0NC4xOTcwMDU1LC03Mi41MDIwNDkzOTk5OTk5OV0sCiAgICAgICAgICAgICAgICB7CiAgICAgICAgICAgICAgICAgICAgaWNvbjogbmV3IEwuSWNvbi5EZWZhdWx0KCkKICAgICAgICAgICAgICAgICAgICB9CiAgICAgICAgICAgICAgICApCiAgICAgICAgICAgICAgICAuYWRkVG8obWFwXzBjMDVmMjAzOGFkNzQ4ZThiZDM2OGNiZTQ1ZjFhZTczKTsKICAgICAgICAgICAgCiAgICAKCiAgICAgICAgICAgIHZhciBtYXJrZXJfOWFlMTBjYTIyNjAyNGNmZmIzODA3NzM1NGJkYWZjZDYgPSBMLm1hcmtlcigKICAgICAgICAgICAgICAgIFszNS43Njk3OTksLTkxLjY0MDk3MjFdLAogICAgICAgICAgICAgICAgewogICAgICAgICAgICAgICAgICAgIGljb246IG5ldyBMLkljb24uRGVmYXVsdCgpCiAgICAgICAgICAgICAgICAgICAgfQogICAgICAgICAgICAgICAgKQogICAgICAgICAgICAgICAgLmFkZFRvKG1hcF8wYzA1ZjIwMzhhZDc0OGU4YmQzNjhjYmU0NWYxYWU3Myk7CiAgICAgICAgICAgIAogICAgCgogICAgICAgICAgICB2YXIgbWFya2VyX2VhNTZmYjgzOGQ0NTRhMmRiZjQxNTE2ZDMzZWYzN2UwID0gTC5tYXJrZXIoCiAgICAgICAgICAgICAgICBbMzUuNzY5Nzk5LC05MS42NDA5NzIxXSwKICAgICAgICAgICAgICAgIHsKICAgICAgICAgICAgICAgICAgICBpY29uOiBuZXcgTC5JY29uLkRlZmF1bHQoKQogICAgICAgICAgICAgICAgICAgIH0KICAgICAgICAgICAgICAgICkKICAgICAgICAgICAgICAgIC5hZGRUbyhtYXBfMGMwNWYyMDM4YWQ3NDhlOGJkMzY4Y2JlNDVmMWFlNzMpOwogICAgICAgICAgICAKICAgIAoKICAgICAgICAgICAgdmFyIG1hcmtlcl9kM2JkOWU5Njc5ZTU0NzM4YmQwN2RkYmE1NDFjYWY5ZiA9IEwubWFya2VyKAogICAgICAgICAgICAgICAgWzM1Ljc2OTc5OSwtOTEuNjQwOTcyMV0sCiAgICAgICAgICAgICAgICB7CiAgICAgICAgICAgICAgICAgICAgaWNvbjogbmV3IEwuSWNvbi5EZWZhdWx0KCkKICAgICAgICAgICAgICAgICAgICB9CiAgICAgICAgICAgICAgICApCiAgICAgICAgICAgICAgICAuYWRkVG8obWFwXzBjMDVmMjAzOGFkNzQ4ZThiZDM2OGNiZTQ1ZjFhZTczKTsKICAgICAgICAgICAgCiAgICAKCiAgICAgICAgICAgIHZhciBtYXJrZXJfMTJjMjg2Y2VhM2IzNGRhYzg2ZjIxNjc5YThjNzQ5MjcgPSBMLm1hcmtlcigKICAgICAgICAgICAgICAgIFszNS43Njk3OTksLTkxLjY0MDk3MjFdLAogICAgICAgICAgICAgICAgewogICAgICAgICAgICAgICAgICAgIGljb246IG5ldyBMLkljb24uRGVmYXVsdCgpCiAgICAgICAgICAgICAgICAgICAgfQogICAgICAgICAgICAgICAgKQogICAgICAgICAgICAgICAgLmFkZFRvKG1hcF8wYzA1ZjIwMzhhZDc0OGU4YmQzNjhjYmU0NWYxYWU3Myk7CiAgICAgICAgICAgIAogICAgCgogICAgICAgICAgICB2YXIgbWFya2VyX2ZjMzMzZTc1MjU0ODQyYWI4Nzg2MGFjZGM4ZTMzNjkxID0gTC5tYXJrZXIoCiAgICAgICAgICAgICAgICBbMzUuNzY5Nzk5LC05MS42NDA5NzIxXSwKICAgICAgICAgICAgICAgIHsKICAgICAgICAgICAgICAgICAgICBpY29uOiBuZXcgTC5JY29uLkRlZmF1bHQoKQogICAgICAgICAgICAgICAgICAgIH0KICAgICAgICAgICAgICAgICkKICAgICAgICAgICAgICAgIC5hZGRUbyhtYXBfMGMwNWYyMDM4YWQ3NDhlOGJkMzY4Y2JlNDVmMWFlNzMpOwogICAgICAgICAgICAKICAgIAoKICAgICAgICAgICAgdmFyIG1hcmtlcl9jNTg2OGI3NzMzN2I0MzI4YjBjNzJhNTFiZjA1NmZjNSA9IEwubWFya2VyKAogICAgICAgICAgICAgICAgWzI4Ljk4Mjc1NjUsLTk1Ljk2OTQwMl0sCiAgICAgICAgICAgICAgICB7CiAgICAgICAgICAgICAgICAgICAgaWNvbjogbmV3IEwuSWNvbi5EZWZhdWx0KCkKICAgICAgICAgICAgICAgICAgICB9CiAgICAgICAgICAgICAgICApCiAgICAgICAgICAgICAgICAuYWRkVG8obWFwXzBjMDVmMjAzOGFkNzQ4ZThiZDM2OGNiZTQ1ZjFhZTczKTsKICAgICAgICAgICAgCiAgICAKCiAgICAgICAgICAgIHZhciBtYXJrZXJfMGQ3Y2IxYzllOTNiNDkxOTllNjIxYzM5ZTFkMzg4YjIgPSBMLm1hcmtlcigKICAgICAgICAgICAgICAgIFszOC44NjExNjE5LC04Ni40ODcyMTQ5XSwKICAgICAgICAgICAgICAgIHsKICAgICAgICAgICAgICAgICAgICBpY29uOiBuZXcgTC5JY29uLkRlZmF1bHQoKQogICAgICAgICAgICAgICAgICAgIH0KICAgICAgICAgICAgICAgICkKICAgICAgICAgICAgICAgIC5hZGRUbyhtYXBfMGMwNWYyMDM4YWQ3NDhlOGJkMzY4Y2JlNDVmMWFlNzMpOwogICAgICAgICAgICAKICAgIAoKICAgICAgICAgICAgdmFyIG1hcmtlcl9mYTIwZWI4NzZiMGY0NWVlYjJkZjJiMGZjM2FhYzQyNCA9IEwubWFya2VyKAogICAgICAgICAgICAgICAgWzM4Ljg2MTE2MTksLTg2LjQ4NzIxNDldLAogICAgICAgICAgICAgICAgewogICAgICAgICAgICAgICAgICAgIGljb246IG5ldyBMLkljb24uRGVmYXVsdCgpCiAgICAgICAgICAgICAgICAgICAgfQogICAgICAgICAgICAgICAgKQogICAgICAgICAgICAgICAgLmFkZFRvKG1hcF8wYzA1ZjIwMzhhZDc0OGU4YmQzNjhjYmU0NWYxYWU3Myk7CiAgICAgICAgICAgIAogICAgCgogICAgICAgICAgICB2YXIgbWFya2VyXzVhMjc1MDU3ZWVhZTQzNzhiOGViNmE2YjUzMmM4OWU0ID0gTC5tYXJrZXIoCiAgICAgICAgICAgICAgICBbMzguODYxMTYxOSwtODYuNDg3MjE0OV0sCiAgICAgICAgICAgICAgICB7CiAgICAgICAgICAgICAgICAgICAgaWNvbjogbmV3IEwuSWNvbi5EZWZhdWx0KCkKICAgICAgICAgICAgICAgICAgICB9CiAgICAgICAgICAgICAgICApCiAgICAgICAgICAgICAgICAuYWRkVG8obWFwXzBjMDVmMjAzOGFkNzQ4ZThiZDM2OGNiZTQ1ZjFhZTczKTsKICAgICAgICAgICAgCjwvc2NyaXB0Pg==\" style=\"position:absolute;width:100%;height:100%;left:0;top:0;border:none !important;\" allowfullscreen webkitallowfullscreen mozallowfullscreen></iframe></div></div>",
                        "text/plain": "<folium.folium.Map at 0x7efcc222f278>"
                    },
                    "execution_count": 16,
                    "metadata": {},
                    "output_type": "execute_result"
                }
            ],
            "source": "map = folium.Map(location=[39.8, -98.6], zoom_start=10)\nvenues_df_top.apply(lambda row:folium.Marker(location=[row[\"Latitude\"], \n                                                  row[\"Longitude\"]]).add_to(map),\n     axis=1)\nmap"
        },
        {
            "cell_type": "markdown",
            "metadata": {},
            "source": "### Section Epsilon:  Disscussion"
        },
        {
            "cell_type": "markdown",
            "metadata": {},
            "source": "The data has been organized to include cities and towns with a population range of under 75,000 and with the amenities, of a grocery store, a library, a post office, a gym or outdoor recreation, and restaurants.  The top twenty-five cities and towns which fall within this desirable range are shown below."
        },
        {
            "cell_type": "code",
            "execution_count": 17,
            "metadata": {
                "scrolled": true
            },
            "outputs": [
                {
                    "data": {
                        "text/html": "<div>\n<style scoped>\n    .dataframe tbody tr th:only-of-type {\n        vertical-align: middle;\n    }\n\n    .dataframe tbody tr th {\n        vertical-align: top;\n    }\n\n    .dataframe thead th {\n        text-align: right;\n    }\n</style>\n<table border=\"1\" class=\"dataframe\">\n  <thead>\n    <tr style=\"text-align: right;\">\n      <th></th>\n      <th>City</th>\n      <th>State</th>\n      <th>Latitude</th>\n      <th>Longitude</th>\n      <th>Venue</th>\n      <th>Category</th>\n    </tr>\n  </thead>\n  <tbody>\n    <tr>\n      <th>0</th>\n      <td>Ada</td>\n      <td>OK</td>\n      <td>34.774531</td>\n      <td>-96.678345</td>\n      <td>House of Health</td>\n      <td>Food</td>\n    </tr>\n    <tr>\n      <th>1</th>\n      <td>Alamogordo</td>\n      <td>NM</td>\n      <td>32.899532</td>\n      <td>-105.960265</td>\n      <td>Roswell Baking Co</td>\n      <td>Bakery</td>\n    </tr>\n    <tr>\n      <th>2</th>\n      <td>Americus</td>\n      <td>GA</td>\n      <td>32.072386</td>\n      <td>-84.232688</td>\n      <td>Terri's Market and Eatery</td>\n      <td>Food</td>\n    </tr>\n    <tr>\n      <th>3</th>\n      <td>Americus</td>\n      <td>GA</td>\n      <td>32.072386</td>\n      <td>-84.232688</td>\n      <td>J J's Wings &amp; Things</td>\n      <td>Burger Joint</td>\n    </tr>\n    <tr>\n      <th>4</th>\n      <td>Amsterdam</td>\n      <td>NY</td>\n      <td>42.937745</td>\n      <td>-74.190356</td>\n      <td>Riverside Pizza</td>\n      <td>Pizza Place</td>\n    </tr>\n    <tr>\n      <th>5</th>\n      <td>Astoria</td>\n      <td>OR</td>\n      <td>46.187884</td>\n      <td>-123.831253</td>\n      <td>Midpoint</td>\n      <td>BBQ Joint</td>\n    </tr>\n    <tr>\n      <th>6</th>\n      <td>Astoria</td>\n      <td>OR</td>\n      <td>46.187884</td>\n      <td>-123.831253</td>\n      <td>Yufka</td>\n      <td>Burrito Place</td>\n    </tr>\n    <tr>\n      <th>7</th>\n      <td>Astoria</td>\n      <td>OR</td>\n      <td>46.187884</td>\n      <td>-123.831253</td>\n      <td>Warteg Niki II</td>\n      <td>Indonesian Restaurant</td>\n    </tr>\n    <tr>\n      <th>8</th>\n      <td>Athens</td>\n      <td>TN</td>\n      <td>35.442851</td>\n      <td>-84.592990</td>\n      <td>Dairy Barn</td>\n      <td>Ice Cream Shop</td>\n    </tr>\n    <tr>\n      <th>9</th>\n      <td>Auburn</td>\n      <td>IN</td>\n      <td>41.366994</td>\n      <td>-85.058858</td>\n      <td>Spencerville Easter Star Donut Stand</td>\n      <td>Donut Shop</td>\n    </tr>\n    <tr>\n      <th>10</th>\n      <td>Decatur County</td>\n      <td>GA</td>\n      <td>30.903800</td>\n      <td>-84.575470</td>\n      <td>Makan</td>\n      <td>Asian Restaurant</td>\n    </tr>\n    <tr>\n      <th>11</th>\n      <td>Bainbridge</td>\n      <td>GA</td>\n      <td>30.903800</td>\n      <td>-84.575470</td>\n      <td>Yuki Express Japanese Restaurant</td>\n      <td>Japanese Restaurant</td>\n    </tr>\n    <tr>\n      <th>12</th>\n      <td>Decatur County</td>\n      <td>GA</td>\n      <td>30.903800</td>\n      <td>-84.575470</td>\n      <td>Southern Sweets Bakery</td>\n      <td>Bakery</td>\n    </tr>\n    <tr>\n      <th>13</th>\n      <td>Decatur County</td>\n      <td>GA</td>\n      <td>30.903800</td>\n      <td>-84.575470</td>\n      <td>Perhaps A Wrap?</td>\n      <td>Food Truck</td>\n    </tr>\n    <tr>\n      <th>14</th>\n      <td>Bardstown</td>\n      <td>KY</td>\n      <td>37.809228</td>\n      <td>-85.466902</td>\n      <td>Harrison-Smith House</td>\n      <td>Comfort Food Restaurant</td>\n    </tr>\n    <tr>\n      <th>15</th>\n      <td>Barre</td>\n      <td>VT</td>\n      <td>44.197006</td>\n      <td>-72.502049</td>\n      <td>Green Mountain Mini Baked</td>\n      <td>Donut Shop</td>\n    </tr>\n    <tr>\n      <th>16</th>\n      <td>Batesville</td>\n      <td>AR</td>\n      <td>35.769799</td>\n      <td>-91.640972</td>\n      <td>Subway</td>\n      <td>Sandwich Place</td>\n    </tr>\n    <tr>\n      <th>17</th>\n      <td>Batesville</td>\n      <td>AR</td>\n      <td>35.769799</td>\n      <td>-91.640972</td>\n      <td>Subway</td>\n      <td>Sandwich Place</td>\n    </tr>\n    <tr>\n      <th>18</th>\n      <td>Batesville</td>\n      <td>AR</td>\n      <td>35.769799</td>\n      <td>-91.640972</td>\n      <td>Fat Jax Catering and Carry Out</td>\n      <td>Food</td>\n    </tr>\n    <tr>\n      <th>19</th>\n      <td>Batesville</td>\n      <td>AR</td>\n      <td>35.769799</td>\n      <td>-91.640972</td>\n      <td>Morningside Coffee House</td>\n      <td>Food</td>\n    </tr>\n    <tr>\n      <th>20</th>\n      <td>Batesville</td>\n      <td>AR</td>\n      <td>35.769799</td>\n      <td>-91.640972</td>\n      <td>Sabor Latino</td>\n      <td>Food Truck</td>\n    </tr>\n    <tr>\n      <th>21</th>\n      <td>Bay City</td>\n      <td>TX</td>\n      <td>28.982757</td>\n      <td>-95.969402</td>\n      <td>Marias Mexican Restaraunt</td>\n      <td>Mexican Restaurant</td>\n    </tr>\n    <tr>\n      <th>22</th>\n      <td>Bedford</td>\n      <td>IN</td>\n      <td>38.861162</td>\n      <td>-86.487215</td>\n      <td>Country Barn Cafe (early bird)</td>\n      <td>American Restaurant</td>\n    </tr>\n    <tr>\n      <th>23</th>\n      <td>Bedford</td>\n      <td>IN</td>\n      <td>38.861162</td>\n      <td>-86.487215</td>\n      <td>El Nacho Del Burrito Mexican Grill</td>\n      <td>Burrito Place</td>\n    </tr>\n    <tr>\n      <th>24</th>\n      <td>Bedford</td>\n      <td>IN</td>\n      <td>38.861162</td>\n      <td>-86.487215</td>\n      <td>Long John Silver's</td>\n      <td>Seafood Restaurant</td>\n    </tr>\n  </tbody>\n</table>\n</div>",
                        "text/plain": "              City State   Latitude   Longitude  \\\n0              Ada    OK  34.774531  -96.678345   \n1       Alamogordo    NM  32.899532 -105.960265   \n2         Americus    GA  32.072386  -84.232688   \n3         Americus    GA  32.072386  -84.232688   \n4        Amsterdam    NY  42.937745  -74.190356   \n5          Astoria    OR  46.187884 -123.831253   \n6          Astoria    OR  46.187884 -123.831253   \n7          Astoria    OR  46.187884 -123.831253   \n8           Athens    TN  35.442851  -84.592990   \n9           Auburn    IN  41.366994  -85.058858   \n10  Decatur County    GA  30.903800  -84.575470   \n11      Bainbridge    GA  30.903800  -84.575470   \n12  Decatur County    GA  30.903800  -84.575470   \n13  Decatur County    GA  30.903800  -84.575470   \n14       Bardstown    KY  37.809228  -85.466902   \n15           Barre    VT  44.197006  -72.502049   \n16      Batesville    AR  35.769799  -91.640972   \n17      Batesville    AR  35.769799  -91.640972   \n18      Batesville    AR  35.769799  -91.640972   \n19      Batesville    AR  35.769799  -91.640972   \n20      Batesville    AR  35.769799  -91.640972   \n21        Bay City    TX  28.982757  -95.969402   \n22         Bedford    IN  38.861162  -86.487215   \n23         Bedford    IN  38.861162  -86.487215   \n24         Bedford    IN  38.861162  -86.487215   \n\n                                   Venue                 Category  \n0                        House of Health                     Food  \n1                      Roswell Baking Co                   Bakery  \n2              Terri's Market and Eatery                     Food  \n3                   J J's Wings & Things             Burger Joint  \n4                        Riverside Pizza              Pizza Place  \n5                               Midpoint                BBQ Joint  \n6                                  Yufka            Burrito Place  \n7                         Warteg Niki II    Indonesian Restaurant  \n8                             Dairy Barn           Ice Cream Shop  \n9   Spencerville Easter Star Donut Stand               Donut Shop  \n10                                 Makan         Asian Restaurant  \n11      Yuki Express Japanese Restaurant      Japanese Restaurant  \n12                Southern Sweets Bakery                   Bakery  \n13                       Perhaps A Wrap?               Food Truck  \n14                  Harrison-Smith House  Comfort Food Restaurant  \n15             Green Mountain Mini Baked               Donut Shop  \n16                                Subway           Sandwich Place  \n17                                Subway           Sandwich Place  \n18        Fat Jax Catering and Carry Out                     Food  \n19              Morningside Coffee House                     Food  \n20                          Sabor Latino               Food Truck  \n21             Marias Mexican Restaraunt       Mexican Restaurant  \n22        Country Barn Cafe (early bird)      American Restaurant  \n23    El Nacho Del Burrito Mexican Grill            Burrito Place  \n24                    Long John Silver's       Seafood Restaurant  "
                    },
                    "execution_count": 17,
                    "metadata": {},
                    "output_type": "execute_result"
                }
            ],
            "source": "venues_df.head(25)"
        },
        {
            "cell_type": "markdown",
            "metadata": {},
            "source": "### Section Zeta:  Conclusion"
        },
        {
            "cell_type": "markdown",
            "metadata": {},
            "source": "In conclusion, the couple has several options for relocaion.  They should be able to find a new place to live.  I wish them the best.  "
        }
    ],
    "metadata": {
        "kernelspec": {
            "display_name": "Python 3.6",
            "language": "python",
            "name": "python3"
        },
        "language_info": {
            "codemirror_mode": {
                "name": "ipython",
                "version": 3
            },
            "file_extension": ".py",
            "mimetype": "text/x-python",
            "name": "python",
            "nbconvert_exporter": "python",
            "pygments_lexer": "ipython3",
            "version": "3.6.8"
        }
    },
    "nbformat": 4,
    "nbformat_minor": 1
}