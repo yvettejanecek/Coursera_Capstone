{
    "nbformat_minor": 1, 
    "cells": [
        {
            "source": "# COURSERA CAPSTONE PROJECT", 
            "cell_type": "markdown", 
            "metadata": {
                "collapsed": true
            }
        }, 
        {
            "source": "## Battle of the Neighboorhoods", 
            "cell_type": "markdown", 
            "metadata": {}
        }, 
        {
            "source": "### Section Alpha: Introduction\n", 
            "cell_type": "markdown", 
            "metadata": {}
        }, 
        {
            "source": "Description of Problem\n    \n    A couple has decided to relocate within the United States. They have created a list of requirements.  This list includes a population range of under 100000 and a few community amenities, such as a grocery store, a library, a post office, a gym or outdoor recreation, and restaurants.  I am tasked with determining the cities and towns which fall within this desirable range.  ", 
            "cell_type": "markdown", 
            "metadata": {}
        }, 
        {
            "execution_count": 1, 
            "cell_type": "code", 
            "metadata": {}, 
            "outputs": [
                {
                    "output_type": "stream", 
                    "name": "stdout", 
                    "text": "Solving environment: done\n\n## Package Plan ##\n\n  environment location: /opt/conda/envs/Python36\n\n  added / updated specs: \n    - folium=0.5.0\n\n\nThe following packages will be downloaded:\n\n    package                    |            build\n    ---------------------------|-----------------\n    folium-0.5.0               |             py_0          45 KB  conda-forge\n    openssl-1.1.1c             |       h516909a_0         2.1 MB  conda-forge\n    branca-0.3.1               |             py_0          25 KB  conda-forge\n    certifi-2019.9.11          |           py36_0         147 KB  conda-forge\n    ca-certificates-2019.9.11  |       hecc5488_0         144 KB  conda-forge\n    altair-3.2.0               |           py36_0         770 KB  conda-forge\n    vincent-0.4.4              |             py_1          28 KB  conda-forge\n    ------------------------------------------------------------\n                                           Total:         3.3 MB\n\nThe following NEW packages will be INSTALLED:\n\n    altair:          3.2.0-py36_0      conda-forge\n    branca:          0.3.1-py_0        conda-forge\n    folium:          0.5.0-py_0        conda-forge\n    vincent:         0.4.4-py_1        conda-forge\n\nThe following packages will be UPDATED:\n\n    ca-certificates: 2019.5.15-1                   --> 2019.9.11-hecc5488_0 conda-forge\n    certifi:         2019.6.16-py36_1              --> 2019.9.11-py36_0     conda-forge\n\nThe following packages will be DOWNGRADED:\n\n    openssl:         1.1.1d-h7b6447c_1             --> 1.1.1c-h516909a_0    conda-forge\n\n\nDownloading and Extracting Packages\nfolium-0.5.0         | 45 KB     | ##################################### | 100% \nopenssl-1.1.1c       | 2.1 MB    | ##################################### | 100% \nbranca-0.3.1         | 25 KB     | ##################################### | 100% \ncertifi-2019.9.11    | 147 KB    | ##################################### | 100% \nca-certificates-2019 | 144 KB    | ##################################### | 100% \naltair-3.2.0         | 770 KB    | ##################################### | 100% \nvincent-0.4.4        | 28 KB     | ##################################### | 100% \nPreparing transaction: done\nVerifying transaction: done\nExecuting transaction: done\nLIBRARIES IMPORTED.\n"
                }
            ], 
            "source": "# import libraries\nimport numpy as np # for vectorized data\nimport pandas as pd # for data analsysis\npd.set_option('display.max_columns', None)\npd.set_option('display.max_rows', None)\n\nimport json # for JSON files\nimport requests # for requests\nfrom pandas.io.json import json_normalize # to tranform JSON file into a pandas dataframe\n\n#!conda install -c conda-forge geopy --yes # uncomment this line if you haven't completed the Foursquare API lab\n#from geopy.geocoders import Nominatim # to convert an address into latitude and longitude values\n\n!conda install -c conda-forge folium=0.5.0 --yes # uncomment this line if you haven't completed the Foursquare API lab\nimport folium # for map rendering\nfrom folium import plugins\n\nprint('LIBRARIES IMPORTED.')"
        }, 
        {
            "source": "### Section Beta:  Data\n", 
            "cell_type": "markdown", 
            "metadata": {}
        }, 
        {
            "source": "Description of Data\n\n    Data will be aquired from the U.S. Census Bureau to idendify communities withing the desired population range.  These metropolitan and micropolitan areas will then be passed through the Google Maps API in order to geocode each loaction by latitude and longintude.  These coordiates will then be used in the Foursquare API, along with the venue categories selected by the couple in order, to aquire information regarding community amenities for each location.  Lastly, these will be mapped to aid in visualization.  ", 
            "cell_type": "markdown", 
            "metadata": {}
        }, 
        {
            "source": "This product uses the Census Bureau Data API but is not endorsed or certified by the Census Bureau.", 
            "cell_type": "markdown", 
            "metadata": {}
        }, 
        {
            "execution_count": 2, 
            "cell_type": "code", 
            "metadata": {}, 
            "outputs": [
                {
                    "execution_count": 2, 
                    "metadata": {}, 
                    "data": {
                        "text/html": "<div>\n<style scoped>\n    .dataframe tbody tr th:only-of-type {\n        vertical-align: middle;\n    }\n\n    .dataframe tbody tr th {\n        vertical-align: top;\n    }\n\n    .dataframe thead th {\n        text-align: right;\n    }\n</style>\n<table border=\"1\" class=\"dataframe\">\n  <thead>\n    <tr style=\"text-align: right;\">\n      <th></th>\n      <th>0</th>\n      <th>1</th>\n      <th>2</th>\n    </tr>\n  </thead>\n  <tbody>\n    <tr>\n      <th>0</th>\n      <td>GEONAME</td>\n      <td>POP</td>\n      <td>metropolitan statistical area/micropolitan sta...</td>\n    </tr>\n    <tr>\n      <th>1</th>\n      <td>Aberdeen, SD Micro Area</td>\n      <td>43191</td>\n      <td>10100</td>\n    </tr>\n    <tr>\n      <th>2</th>\n      <td>Aberdeen, WA Micro Area</td>\n      <td>73901</td>\n      <td>10140</td>\n    </tr>\n    <tr>\n      <th>3</th>\n      <td>Abilene, TX Metro Area</td>\n      <td>171451</td>\n      <td>10180</td>\n    </tr>\n    <tr>\n      <th>4</th>\n      <td>Ada, OK Micro Area</td>\n      <td>38247</td>\n      <td>10220</td>\n    </tr>\n  </tbody>\n</table>\n</div>", 
                        "text/plain": "                         0       1  \\\n0                  GEONAME     POP   \n1  Aberdeen, SD Micro Area   43191   \n2  Aberdeen, WA Micro Area   73901   \n3   Abilene, TX Metro Area  171451   \n4       Ada, OK Micro Area   38247   \n\n                                                   2  \n0  metropolitan statistical area/micropolitan sta...  \n1                                              10100  \n2                                              10140  \n3                                              10180  \n4                                              10220  "
                    }, 
                    "output_type": "execute_result"
                }
            ], 
            "source": "#Census Bureau API Key and Call\nCensusBureau_Key = ''\nCensusBureau_url='https://api.census.gov/data/2018/pep/population?get=GEONAME,POP&for=metropolitan%20statistical%20area/micropolitan%20statistical%20area:*&key={}'.format(CensusBureau_Key)\n#create dataframe\ndf = pd.read_json(CensusBureau_url)\ndf.head()"
        }, 
        {
            "execution_count": 3, 
            "cell_type": "code", 
            "metadata": {
                "scrolled": true
            }, 
            "outputs": [
                {
                    "execution_count": 3, 
                    "metadata": {}, 
                    "data": {
                        "text/html": "<div>\n<style scoped>\n    .dataframe tbody tr th:only-of-type {\n        vertical-align: middle;\n    }\n\n    .dataframe tbody tr th {\n        vertical-align: top;\n    }\n\n    .dataframe thead th {\n        text-align: right;\n    }\n</style>\n<table border=\"1\" class=\"dataframe\">\n  <thead>\n    <tr style=\"text-align: right;\">\n      <th></th>\n      <th>CITY</th>\n      <th>POPULATION</th>\n    </tr>\n  </thead>\n  <tbody>\n    <tr>\n      <th>1</th>\n      <td>Aberdeen, SD Micro Area</td>\n      <td>43191</td>\n    </tr>\n    <tr>\n      <th>2</th>\n      <td>Aberdeen, WA Micro Area</td>\n      <td>73901</td>\n    </tr>\n    <tr>\n      <th>3</th>\n      <td>Abilene, TX Metro Area</td>\n      <td>171451</td>\n    </tr>\n    <tr>\n      <th>4</th>\n      <td>Ada, OK Micro Area</td>\n      <td>38247</td>\n    </tr>\n    <tr>\n      <th>5</th>\n      <td>Adjuntas, PR Micro Area</td>\n      <td>17302</td>\n    </tr>\n  </tbody>\n</table>\n</div>", 
                        "text/plain": "                      CITY POPULATION\n1  Aberdeen, SD Micro Area      43191\n2  Aberdeen, WA Micro Area      73901\n3   Abilene, TX Metro Area     171451\n4       Ada, OK Micro Area      38247\n5  Adjuntas, PR Micro Area      17302"
                    }, 
                    "output_type": "execute_result"
                }
            ], 
            "source": "df = df.drop(columns =[2])\ndf.columns = [\"CITY\",\"POPULATION\"]\ndf = df.drop(0)\ndf.head()"
        }, 
        {
            "execution_count": 4, 
            "cell_type": "code", 
            "metadata": {}, 
            "outputs": [
                {
                    "execution_count": 4, 
                    "metadata": {}, 
                    "data": {
                        "text/plain": "CITY          object\nPOPULATION    object\ndtype: object"
                    }, 
                    "output_type": "execute_result"
                }
            ], 
            "source": "df.dtypes"
        }, 
        {
            "execution_count": 5, 
            "cell_type": "code", 
            "metadata": {
                "scrolled": true
            }, 
            "outputs": [
                {
                    "execution_count": 5, 
                    "metadata": {}, 
                    "data": {
                        "text/plain": "CITY          object\nPOPULATION     int64\ndtype: object"
                    }, 
                    "output_type": "execute_result"
                }
            ], 
            "source": "df['POPULATION']=df['POPULATION'].astype(str).astype(int)\ndf['CITY']=df['CITY'].astype(str)\ndf.dtypes"
        }, 
        {
            "execution_count": 6, 
            "cell_type": "code", 
            "metadata": {
                "scrolled": true
            }, 
            "outputs": [
                {
                    "execution_count": 6, 
                    "metadata": {}, 
                    "data": {
                        "text/html": "<div>\n<style scoped>\n    .dataframe tbody tr th:only-of-type {\n        vertical-align: middle;\n    }\n\n    .dataframe tbody tr th {\n        vertical-align: top;\n    }\n\n    .dataframe thead th {\n        text-align: right;\n    }\n</style>\n<table border=\"1\" class=\"dataframe\">\n  <thead>\n    <tr style=\"text-align: right;\">\n      <th></th>\n      <th>CITY</th>\n      <th>POPULATION</th>\n    </tr>\n  </thead>\n  <tbody>\n    <tr>\n      <th>1</th>\n      <td>Aberdeen, SD</td>\n      <td>43191</td>\n    </tr>\n    <tr>\n      <th>2</th>\n      <td>Aberdeen, WA</td>\n      <td>73901</td>\n    </tr>\n    <tr>\n      <th>4</th>\n      <td>Ada, OK</td>\n      <td>38247</td>\n    </tr>\n    <tr>\n      <th>5</th>\n      <td>Adjuntas, PR</td>\n      <td>17302</td>\n    </tr>\n    <tr>\n      <th>6</th>\n      <td>Adrian, MI</td>\n      <td>98266</td>\n    </tr>\n  </tbody>\n</table>\n</div>", 
                        "text/plain": "           CITY  POPULATION\n1  Aberdeen, SD       43191\n2  Aberdeen, WA       73901\n4       Ada, OK       38247\n5  Adjuntas, PR       17302\n6    Adrian, MI       98266"
                    }, 
                    "output_type": "execute_result"
                }
            ], 
            "source": "df=df[df['POPULATION']<=100000]\ndf['CITY']=df['CITY'].str.rstrip(' Area')\ndf['CITY']=df['CITY'].str.rstrip(' Micro')\ndf['CITY']=df['CITY'].str.rstrip(' Metro')\ndf.reset_index(drop=True)\ndf.head()"
        }, 
        {
            "execution_count": 7, 
            "cell_type": "code", 
            "metadata": {}, 
            "outputs": [
                {
                    "execution_count": 7, 
                    "metadata": {}, 
                    "data": {
                        "text/plain": "(559, 2)"
                    }, 
                    "output_type": "execute_result"
                }
            ], 
            "source": "df.shape"
        }, 
        {
            "execution_count": 8, 
            "cell_type": "code", 
            "metadata": {
                "scrolled": false
            }, 
            "outputs": [
                {
                    "execution_count": 8, 
                    "metadata": {}, 
                    "data": {
                        "text/html": "<div>\n<style scoped>\n    .dataframe tbody tr th:only-of-type {\n        vertical-align: middle;\n    }\n\n    .dataframe tbody tr th {\n        vertical-align: top;\n    }\n\n    .dataframe thead th {\n        text-align: right;\n    }\n</style>\n<table border=\"1\" class=\"dataframe\">\n  <thead>\n    <tr style=\"text-align: right;\">\n      <th></th>\n      <th>Latitude</th>\n      <th>Longitude</th>\n    </tr>\n  </thead>\n  <tbody>\n    <tr>\n      <th>0</th>\n      <td>45.464698</td>\n      <td>-98.486483</td>\n    </tr>\n    <tr>\n      <th>1</th>\n      <td>46.975371</td>\n      <td>-123.815722</td>\n    </tr>\n    <tr>\n      <th>2</th>\n      <td>34.774531</td>\n      <td>-96.678345</td>\n    </tr>\n    <tr>\n      <th>3</th>\n      <td>18.163485</td>\n      <td>-66.723158</td>\n    </tr>\n    <tr>\n      <th>4</th>\n      <td>41.897547</td>\n      <td>-84.037166</td>\n    </tr>\n  </tbody>\n</table>\n</div>", 
                        "text/plain": "    Latitude   Longitude\n0  45.464698  -98.486483\n1  46.975371 -123.815722\n2  34.774531  -96.678345\n3  18.163485  -66.723158\n4  41.897547  -84.037166"
                    }, 
                    "output_type": "execute_result"
                }
            ], 
            "source": "GoogleMaps_Key = '' # Google Maps API Key \n#create Google Maps API request url and append to dataframe\nlats=[] #create empty latitude list\nlngs=[] #create empty longitude list\nfor i in df['CITY']:\n    try:\n        GoogleMaps_url='https://maps.googleapis.com/maps/api/geocode/json?key={}&address={}'.format(GoogleMaps_Key,i)\n        response=requests.get(GoogleMaps_url).json()\n        coordinates=response['results'][0]['geometry']['location']\n        lats.append(coordinates['lat'])\n        lngs.append(coordinates['lng'])\n    except:\n        pass\ndf2=pd.DataFrame()\ndf2['Latitude']=lats\ndf2['Longitude']=lngs\ndf2.reset_index(drop=True)\ndf2.head()\n#df['Latitude']=lats\n#df['Longitude']=lngs\n#df.reset_index(drop=True)"
        }, 
        {
            "execution_count": 9, 
            "cell_type": "code", 
            "metadata": {}, 
            "outputs": [
                {
                    "execution_count": 9, 
                    "metadata": {}, 
                    "data": {
                        "text/plain": "(558, 2)"
                    }, 
                    "output_type": "execute_result"
                }
            ], 
            "source": "df2.shape"
        }, 
        {
            "execution_count": 10, 
            "cell_type": "code", 
            "metadata": {}, 
            "outputs": [
                {
                    "execution_count": 10, 
                    "metadata": {}, 
                    "data": {
                        "text/plain": "(558, 2)"
                    }, 
                    "output_type": "execute_result"
                }
            ], 
            "source": "df=df.iloc[0:558]\ndf.shape"
        }, 
        {
            "execution_count": 11, 
            "cell_type": "code", 
            "metadata": {}, 
            "outputs": [], 
            "source": "df.to_csv(r'F:\\dataframe.csv')\ndf2.to_csv(r'F:\\dataframe2.csv')"
        }, 
        {
            "execution_count": 12, 
            "cell_type": "code", 
            "metadata": {}, 
            "outputs": [
                {
                    "execution_count": 12, 
                    "metadata": {}, 
                    "data": {
                        "text/html": "<div>\n<style scoped>\n    .dataframe tbody tr th:only-of-type {\n        vertical-align: middle;\n    }\n\n    .dataframe tbody tr th {\n        vertical-align: top;\n    }\n\n    .dataframe thead th {\n        text-align: right;\n    }\n</style>\n<table border=\"1\" class=\"dataframe\">\n  <thead>\n    <tr style=\"text-align: right;\">\n      <th></th>\n      <th>CITY</th>\n      <th>POPULATION</th>\n      <th>Latitude</th>\n      <th>Longitude</th>\n    </tr>\n  </thead>\n  <tbody>\n    <tr>\n      <th>0</th>\n      <td>NaN</td>\n      <td>NaN</td>\n      <td>45.464698</td>\n      <td>-98.486483</td>\n    </tr>\n    <tr>\n      <th>1</th>\n      <td>Aberdeen, SD</td>\n      <td>43191.0</td>\n      <td>46.975371</td>\n      <td>-123.815722</td>\n    </tr>\n    <tr>\n      <th>2</th>\n      <td>Aberdeen, WA</td>\n      <td>73901.0</td>\n      <td>34.774531</td>\n      <td>-96.678345</td>\n    </tr>\n    <tr>\n      <th>3</th>\n      <td>NaN</td>\n      <td>NaN</td>\n      <td>18.163485</td>\n      <td>-66.723158</td>\n    </tr>\n    <tr>\n      <th>4</th>\n      <td>Ada, OK</td>\n      <td>38247.0</td>\n      <td>41.897547</td>\n      <td>-84.037166</td>\n    </tr>\n  </tbody>\n</table>\n</div>", 
                        "text/plain": "           CITY  POPULATION   Latitude   Longitude\n0           NaN         NaN  45.464698  -98.486483\n1  Aberdeen, SD     43191.0  46.975371 -123.815722\n2  Aberdeen, WA     73901.0  34.774531  -96.678345\n3           NaN         NaN  18.163485  -66.723158\n4       Ada, OK     38247.0  41.897547  -84.037166"
                    }, 
                    "output_type": "execute_result"
                }
            ], 
            "source": "data=pd.concat([df, df2], axis = 1)\ndata.head()"
        }, 
        {
            "execution_count": 13, 
            "cell_type": "code", 
            "metadata": {}, 
            "outputs": [
                {
                    "output_type": "stream", 
                    "name": "stdout", 
                    "text": "4bf58dd8d48988d118951735,4bf58dd8d48988d12f941735,4d4b7105d754a06377d81259,4bf58dd8d48988d172941735\n"
                }
            ], 
            "source": "#create category list\n#Grocery Store 4bf58dd8d48988d118951735\n#Food 4d4b7105d754a06374d81259\n#Library 4bf58dd8d48988d12f941735\n#Outdoors & Recreations 4d4b7105d754a06377d81259\n#Post Office 4bf58dd8d48988d172941735\n\nCategoryIds=['4bf58dd8d48988d118951735','4bf58dd8d48988d12f941735','4d4b7105d754a06377d81259','4bf58dd8d48988d172941735']\ncategoryId=','.join(CategoryIds)\nprint(categoryId)"
        }, 
        {
            "execution_count": 14, 
            "cell_type": "code", 
            "metadata": {}, 
            "outputs": [
                {
                    "ename": "KeyError", 
                    "evalue": "'groups'", 
                    "traceback": [
                        "\u001b[0;31m---------------------------------------------------------------------------\u001b[0m", 
                        "\u001b[0;31mKeyError\u001b[0m                                  Traceback (most recent call last)", 
                        "\u001b[0;32m<ipython-input-14-d3dfc808e0bd>\u001b[0m in \u001b[0;36m<module>\u001b[0;34m\u001b[0m\n\u001b[1;32m     18\u001b[0m         limit)\n\u001b[1;32m     19\u001b[0m \u001b[0;34m\u001b[0m\u001b[0m\n\u001b[0;32m---> 20\u001b[0;31m     \u001b[0mresults2\u001b[0m\u001b[0;34m=\u001b[0m\u001b[0mrequests\u001b[0m\u001b[0;34m.\u001b[0m\u001b[0mget\u001b[0m\u001b[0;34m(\u001b[0m\u001b[0mFourSquare_url\u001b[0m\u001b[0;34m)\u001b[0m\u001b[0;34m.\u001b[0m\u001b[0mjson\u001b[0m\u001b[0;34m(\u001b[0m\u001b[0;34m)\u001b[0m\u001b[0;34m[\u001b[0m\u001b[0;34m'response'\u001b[0m\u001b[0;34m]\u001b[0m\u001b[0;34m[\u001b[0m\u001b[0;34m'groups'\u001b[0m\u001b[0;34m]\u001b[0m\u001b[0;34m[\u001b[0m\u001b[0;36m0\u001b[0m\u001b[0;34m]\u001b[0m\u001b[0;34m[\u001b[0m\u001b[0;34m'items'\u001b[0m\u001b[0;34m]\u001b[0m\u001b[0;34m\u001b[0m\u001b[0;34m\u001b[0m\u001b[0m\n\u001b[0m\u001b[1;32m     21\u001b[0m \u001b[0;34m\u001b[0m\u001b[0m\n\u001b[1;32m     22\u001b[0m     \u001b[0;32mfor\u001b[0m \u001b[0mvenue\u001b[0m \u001b[0;32min\u001b[0m \u001b[0mresults2\u001b[0m\u001b[0;34m:\u001b[0m\u001b[0;34m\u001b[0m\u001b[0;34m\u001b[0m\u001b[0m\n", 
                        "\u001b[0;31mKeyError\u001b[0m: 'groups'"
                    ], 
                    "output_type": "error"
                }
            ], 
            "source": "client_id = '' # Foursquare API ID\nclient_secret = '' # Foursquare API Secret\nversion = '20190810' # Foursquare API version YYYYMMDD\nradius = 50 # define radius\nlimit = 100 # limit the number of venues returned by Foursquare API\n# create URL\n\nvenues_list=[]\nfor lat, lon, in zip(data['Latitude'],data['Longitude']):\n    FourSquare_url = 'https://api.foursquare.com/v2/venues/explore?&client_id={}&client_secret={}&v={}&ll={},{}&radius={}&categoryId={}&limit={}'.format(\n        client_id,\n        client_secret, \n        version, \n        lat,\n        lon,\n        radius, \n        categoryId,\n        limit)\n        \n    results2=requests.get(FourSquare_url).json()['response']['groups'][0]['items']\n    \n    for venue in results2:\n        venues_list.append((\n            lat,\n            lon,\n            venue['venue']['name'],\n            venue['venue']['categories'][0]['name']))\n            \nvenues_df=pd.DataFrame(venues_list)\nvenues_df.columns=['City','Population','Latitude','Longitude','Venue Name','Venue Type']\n\nprint(venues_df.shape)\nvenues_df.head()"
        }, 
        {
            "execution_count": 21, 
            "cell_type": "code", 
            "metadata": {}, 
            "outputs": [], 
            "source": "venues_df.to_csv(r'F:\\dataframevenues.csv')"
        }, 
        {
            "execution_count": 22, 
            "cell_type": "code", 
            "metadata": {}, 
            "outputs": [
                {
                    "execution_count": 22, 
                    "metadata": {}, 
                    "data": {
                        "text/html": "<div>\n<style scoped>\n    .dataframe tbody tr th:only-of-type {\n        vertical-align: middle;\n    }\n\n    .dataframe tbody tr th {\n        vertical-align: top;\n    }\n\n    .dataframe thead th {\n        text-align: right;\n    }\n</style>\n<table border=\"1\" class=\"dataframe\">\n  <thead>\n    <tr style=\"text-align: right;\">\n      <th></th>\n      <th>Latitude</th>\n      <th>Longitude</th>\n      <th>Venue Name</th>\n      <th>Venue Type</th>\n    </tr>\n  </thead>\n  <tbody>\n    <tr>\n      <th>0</th>\n      <td>43.378920</td>\n      <td>-84.659727</td>\n      <td>L.E.A.N.</td>\n      <td>Gym / Fitness Center</td>\n    </tr>\n    <tr>\n      <th>1</th>\n      <td>34.637765</td>\n      <td>-99.334044</td>\n      <td>Gym Virtual</td>\n      <td>Athletics &amp; Sports</td>\n    </tr>\n    <tr>\n      <th>2</th>\n      <td>32.072386</td>\n      <td>-84.232688</td>\n      <td>Caravelle Boat Group, LLC.</td>\n      <td>Harbor / Marina</td>\n    </tr>\n    <tr>\n      <th>3</th>\n      <td>32.072386</td>\n      <td>-84.232688</td>\n      <td>Workout Joe's</td>\n      <td>Gym / Fitness Center</td>\n    </tr>\n    <tr>\n      <th>4</th>\n      <td>41.634773</td>\n      <td>-84.999409</td>\n      <td>Fitt4life</td>\n      <td>Gym</td>\n    </tr>\n  </tbody>\n</table>\n</div>", 
                        "text/plain": "    Latitude  Longitude                  Venue Name            Venue Type\n0  43.378920 -84.659727                    L.E.A.N.  Gym / Fitness Center\n1  34.637765 -99.334044                 Gym Virtual    Athletics & Sports\n2  32.072386 -84.232688  Caravelle Boat Group, LLC.       Harbor / Marina\n3  32.072386 -84.232688               Workout Joe's  Gym / Fitness Center\n4  41.634773 -84.999409                   Fitt4life                   Gym"
                    }, 
                    "output_type": "execute_result"
                }
            ], 
            "source": "venues_df.groupby('Latitude')['Latitude'].count().sort_values(ascending=False)\nvenues_df.head()"
        }, 
        {
            "execution_count": 23, 
            "cell_type": "code", 
            "metadata": {}, 
            "outputs": [], 
            "source": "venues_df_top=venues_df.iloc[0:25]"
        }, 
        {
            "execution_count": 25, 
            "cell_type": "code", 
            "metadata": {}, 
            "outputs": [
                {
                    "execution_count": 25, 
                    "metadata": {}, 
                    "data": {
                        "text/html": "<div style=\"width:100%;\"><div style=\"position:relative;width:100%;height:0;padding-bottom:60%;\"><iframe src=\"data:text/html;charset=utf-8;base64,PCFET0NUWVBFIGh0bWw+CjxoZWFkPiAgICAKICAgIDxtZXRhIGh0dHAtZXF1aXY9ImNvbnRlbnQtdHlwZSIgY29udGVudD0idGV4dC9odG1sOyBjaGFyc2V0PVVURi04IiAvPgogICAgPHNjcmlwdD5MX1BSRUZFUl9DQU5WQVMgPSBmYWxzZTsgTF9OT19UT1VDSCA9IGZhbHNlOyBMX0RJU0FCTEVfM0QgPSBmYWxzZTs8L3NjcmlwdD4KICAgIDxzY3JpcHQgc3JjPSJodHRwczovL2Nkbi5qc2RlbGl2ci5uZXQvbnBtL2xlYWZsZXRAMS4yLjAvZGlzdC9sZWFmbGV0LmpzIj48L3NjcmlwdD4KICAgIDxzY3JpcHQgc3JjPSJodHRwczovL2FqYXguZ29vZ2xlYXBpcy5jb20vYWpheC9saWJzL2pxdWVyeS8xLjExLjEvanF1ZXJ5Lm1pbi5qcyI+PC9zY3JpcHQ+CiAgICA8c2NyaXB0IHNyYz0iaHR0cHM6Ly9tYXhjZG4uYm9vdHN0cmFwY2RuLmNvbS9ib290c3RyYXAvMy4yLjAvanMvYm9vdHN0cmFwLm1pbi5qcyI+PC9zY3JpcHQ+CiAgICA8c2NyaXB0IHNyYz0iaHR0cHM6Ly9jZG5qcy5jbG91ZGZsYXJlLmNvbS9hamF4L2xpYnMvTGVhZmxldC5hd2Vzb21lLW1hcmtlcnMvMi4wLjIvbGVhZmxldC5hd2Vzb21lLW1hcmtlcnMuanMiPjwvc2NyaXB0PgogICAgPGxpbmsgcmVsPSJzdHlsZXNoZWV0IiBocmVmPSJodHRwczovL2Nkbi5qc2RlbGl2ci5uZXQvbnBtL2xlYWZsZXRAMS4yLjAvZGlzdC9sZWFmbGV0LmNzcyIvPgogICAgPGxpbmsgcmVsPSJzdHlsZXNoZWV0IiBocmVmPSJodHRwczovL21heGNkbi5ib290c3RyYXBjZG4uY29tL2Jvb3RzdHJhcC8zLjIuMC9jc3MvYm9vdHN0cmFwLm1pbi5jc3MiLz4KICAgIDxsaW5rIHJlbD0ic3R5bGVzaGVldCIgaHJlZj0iaHR0cHM6Ly9tYXhjZG4uYm9vdHN0cmFwY2RuLmNvbS9ib290c3RyYXAvMy4yLjAvY3NzL2Jvb3RzdHJhcC10aGVtZS5taW4uY3NzIi8+CiAgICA8bGluayByZWw9InN0eWxlc2hlZXQiIGhyZWY9Imh0dHBzOi8vbWF4Y2RuLmJvb3RzdHJhcGNkbi5jb20vZm9udC1hd2Vzb21lLzQuNi4zL2Nzcy9mb250LWF3ZXNvbWUubWluLmNzcyIvPgogICAgPGxpbmsgcmVsPSJzdHlsZXNoZWV0IiBocmVmPSJodHRwczovL2NkbmpzLmNsb3VkZmxhcmUuY29tL2FqYXgvbGlicy9MZWFmbGV0LmF3ZXNvbWUtbWFya2Vycy8yLjAuMi9sZWFmbGV0LmF3ZXNvbWUtbWFya2Vycy5jc3MiLz4KICAgIDxsaW5rIHJlbD0ic3R5bGVzaGVldCIgaHJlZj0iaHR0cHM6Ly9yYXdnaXQuY29tL3B5dGhvbi12aXN1YWxpemF0aW9uL2ZvbGl1bS9tYXN0ZXIvZm9saXVtL3RlbXBsYXRlcy9sZWFmbGV0LmF3ZXNvbWUucm90YXRlLmNzcyIvPgogICAgPHN0eWxlPmh0bWwsIGJvZHkge3dpZHRoOiAxMDAlO2hlaWdodDogMTAwJTttYXJnaW46IDA7cGFkZGluZzogMDt9PC9zdHlsZT4KICAgIDxzdHlsZT4jbWFwIHtwb3NpdGlvbjphYnNvbHV0ZTt0b3A6MDtib3R0b206MDtyaWdodDowO2xlZnQ6MDt9PC9zdHlsZT4KICAgIAogICAgICAgICAgICA8c3R5bGU+ICNtYXBfMDk2MjlkZjE5YzkwNDJiNTg1NGY4MTUzZWYzMjZlODYgewogICAgICAgICAgICAgICAgcG9zaXRpb24gOiByZWxhdGl2ZTsKICAgICAgICAgICAgICAgIHdpZHRoIDogMTAwLjAlOwogICAgICAgICAgICAgICAgaGVpZ2h0OiAxMDAuMCU7CiAgICAgICAgICAgICAgICBsZWZ0OiAwLjAlOwogICAgICAgICAgICAgICAgdG9wOiAwLjAlOwogICAgICAgICAgICAgICAgfQogICAgICAgICAgICA8L3N0eWxlPgogICAgICAgIAo8L2hlYWQ+Cjxib2R5PiAgICAKICAgIAogICAgICAgICAgICA8ZGl2IGNsYXNzPSJmb2xpdW0tbWFwIiBpZD0ibWFwXzA5NjI5ZGYxOWM5MDQyYjU4NTRmODE1M2VmMzI2ZTg2IiA+PC9kaXY+CiAgICAgICAgCjwvYm9keT4KPHNjcmlwdD4gICAgCiAgICAKCiAgICAgICAgICAgIAogICAgICAgICAgICAgICAgdmFyIGJvdW5kcyA9IG51bGw7CiAgICAgICAgICAgIAoKICAgICAgICAgICAgdmFyIG1hcF8wOTYyOWRmMTljOTA0MmI1ODU0ZjgxNTNlZjMyNmU4NiA9IEwubWFwKAogICAgICAgICAgICAgICAgICAgICAgICAgICAgICAgICAgJ21hcF8wOTYyOWRmMTljOTA0MmI1ODU0ZjgxNTNlZjMyNmU4NicsCiAgICAgICAgICAgICAgICAgICAgICAgICAgICAgICAgICB7Y2VudGVyOiBbMzkuOCwtOTguNl0sCiAgICAgICAgICAgICAgICAgICAgICAgICAgICAgICAgICB6b29tOiAxMCwKICAgICAgICAgICAgICAgICAgICAgICAgICAgICAgICAgIG1heEJvdW5kczogYm91bmRzLAogICAgICAgICAgICAgICAgICAgICAgICAgICAgICAgICAgbGF5ZXJzOiBbXSwKICAgICAgICAgICAgICAgICAgICAgICAgICAgICAgICAgIHdvcmxkQ29weUp1bXA6IGZhbHNlLAogICAgICAgICAgICAgICAgICAgICAgICAgICAgICAgICAgY3JzOiBMLkNSUy5FUFNHMzg1NwogICAgICAgICAgICAgICAgICAgICAgICAgICAgICAgICB9KTsKICAgICAgICAgICAgCiAgICAgICAgCiAgICAKICAgICAgICAgICAgdmFyIHRpbGVfbGF5ZXJfMzgyN2QxYTA2OWE5NDk2MDhjNjlhNmYwZGVjMDgyMDMgPSBMLnRpbGVMYXllcigKICAgICAgICAgICAgICAgICdodHRwczovL3tzfS50aWxlLm9wZW5zdHJlZXRtYXAub3JnL3t6fS97eH0ve3l9LnBuZycsCiAgICAgICAgICAgICAgICB7CiAgImF0dHJpYnV0aW9uIjogbnVsbCwKICAiZGV0ZWN0UmV0aW5hIjogZmFsc2UsCiAgIm1heFpvb20iOiAxOCwKICAibWluWm9vbSI6IDEsCiAgIm5vV3JhcCI6IGZhbHNlLAogICJzdWJkb21haW5zIjogImFiYyIKfQogICAgICAgICAgICAgICAgKS5hZGRUbyhtYXBfMDk2MjlkZjE5YzkwNDJiNTg1NGY4MTUzZWYzMjZlODYpOwogICAgICAgIAogICAgCgogICAgICAgICAgICB2YXIgbWFya2VyX2VlNmZmOTg5MTViMDQ0MzM5YTUyN2Y0MDY2MDRmNGYxID0gTC5tYXJrZXIoCiAgICAgICAgICAgICAgICBbNDMuMzc4OTE5OSwtODQuNjU5NzI3NF0sCiAgICAgICAgICAgICAgICB7CiAgICAgICAgICAgICAgICAgICAgaWNvbjogbmV3IEwuSWNvbi5EZWZhdWx0KCkKICAgICAgICAgICAgICAgICAgICB9CiAgICAgICAgICAgICAgICApCiAgICAgICAgICAgICAgICAuYWRkVG8obWFwXzA5NjI5ZGYxOWM5MDQyYjU4NTRmODE1M2VmMzI2ZTg2KTsKICAgICAgICAgICAgCiAgICAKCiAgICAgICAgICAgIHZhciBtYXJrZXJfYmE2MjFhZmFiOGNlNGEzZGEwYmI3OWJlYWY0NDc3NmQgPSBMLm1hcmtlcigKICAgICAgICAgICAgICAgIFszNC42Mzc3NjUsLTk5LjMzNDA0NDJdLAogICAgICAgICAgICAgICAgewogICAgICAgICAgICAgICAgICAgIGljb246IG5ldyBMLkljb24uRGVmYXVsdCgpCiAgICAgICAgICAgICAgICAgICAgfQogICAgICAgICAgICAgICAgKQogICAgICAgICAgICAgICAgLmFkZFRvKG1hcF8wOTYyOWRmMTljOTA0MmI1ODU0ZjgxNTNlZjMyNmU4Nik7CiAgICAgICAgICAgIAogICAgCgogICAgICAgICAgICB2YXIgbWFya2VyXzhlNzU5MWVkMjdlZTRmMjA5YzkwYmZiZGZmNjllZjIxID0gTC5tYXJrZXIoCiAgICAgICAgICAgICAgICBbMzIuMDcyMzg2MSwtODQuMjMyNjg3NTk5OTk5OTldLAogICAgICAgICAgICAgICAgewogICAgICAgICAgICAgICAgICAgIGljb246IG5ldyBMLkljb24uRGVmYXVsdCgpCiAgICAgICAgICAgICAgICAgICAgfQogICAgICAgICAgICAgICAgKQogICAgICAgICAgICAgICAgLmFkZFRvKG1hcF8wOTYyOWRmMTljOTA0MmI1ODU0ZjgxNTNlZjMyNmU4Nik7CiAgICAgICAgICAgIAogICAgCgogICAgICAgICAgICB2YXIgbWFya2VyX2MyMWNmOTI5NTk2ZDRmMmU4YjUzYmUxYzIwZGU1ZGQxID0gTC5tYXJrZXIoCiAgICAgICAgICAgICAgICBbMzIuMDcyMzg2MSwtODQuMjMyNjg3NTk5OTk5OTldLAogICAgICAgICAgICAgICAgewogICAgICAgICAgICAgICAgICAgIGljb246IG5ldyBMLkljb24uRGVmYXVsdCgpCiAgICAgICAgICAgICAgICAgICAgfQogICAgICAgICAgICAgICAgKQogICAgICAgICAgICAgICAgLmFkZFRvKG1hcF8wOTYyOWRmMTljOTA0MmI1ODU0ZjgxNTNlZjMyNmU4Nik7CiAgICAgICAgICAgIAogICAgCgogICAgICAgICAgICB2YXIgbWFya2VyXzQ4NTVhNTkzZWU3MzQ0NmQ5NjQ4NjFlYTc0MzkyYThjID0gTC5tYXJrZXIoCiAgICAgICAgICAgICAgICBbNDEuNjM0NzcyNiwtODQuOTk5NDA4OF0sCiAgICAgICAgICAgICAgICB7CiAgICAgICAgICAgICAgICAgICAgaWNvbjogbmV3IEwuSWNvbi5EZWZhdWx0KCkKICAgICAgICAgICAgICAgICAgICB9CiAgICAgICAgICAgICAgICApCiAgICAgICAgICAgICAgICAuYWRkVG8obWFwXzA5NjI5ZGYxOWM5MDQyYjU4NTRmODE1M2VmMzI2ZTg2KTsKICAgICAgICAgICAgCiAgICAKCiAgICAgICAgICAgIHZhciBtYXJrZXJfYWM0ODQwYmE1MzBkNDA5MzkyNTExZWQ3NDE4NDkzZTQgPSBMLm1hcmtlcigKICAgICAgICAgICAgICAgIFszNC4xNzQyNjExLC05Ny4xNDM2MjUzOTk5OTk5OV0sCiAgICAgICAgICAgICAgICB7CiAgICAgICAgICAgICAgICAgICAgaWNvbjogbmV3IEwuSWNvbi5EZWZhdWx0KCkKICAgICAgICAgICAgICAgICAgICB9CiAgICAgICAgICAgICAgICApCiAgICAgICAgICAgICAgICAuYWRkVG8obWFwXzA5NjI5ZGYxOWM5MDQyYjU4NTRmODE1M2VmMzI2ZTg2KTsKICAgICAgICAgICAgCiAgICAKCiAgICAgICAgICAgIHZhciBtYXJrZXJfZDY2MDIxMmM1ZDMwNGQ2ZWI5YTdhOGY0NWYyNTVlNWEgPSBMLm1hcmtlcigKICAgICAgICAgICAgICAgIFszNC4xNzQyNjExLC05Ny4xNDM2MjUzOTk5OTk5OV0sCiAgICAgICAgICAgICAgICB7CiAgICAgICAgICAgICAgICAgICAgaWNvbjogbmV3IEwuSWNvbi5EZWZhdWx0KCkKICAgICAgICAgICAgICAgICAgICB9CiAgICAgICAgICAgICAgICApCiAgICAgICAgICAgICAgICAuYWRkVG8obWFwXzA5NjI5ZGYxOWM5MDQyYjU4NTRmODE1M2VmMzI2ZTg2KTsKICAgICAgICAgICAgCiAgICAKCiAgICAgICAgICAgIHZhciBtYXJrZXJfZDM3YWI3NTQ5MDA1NDEwZTk3OWU0NGNkMjJkOGY4ZTEgPSBMLm1hcmtlcigKICAgICAgICAgICAgICAgIFs0MC44Njg2Njc1LC04Mi4zMTgyMTc4XSwKICAgICAgICAgICAgICAgIHsKICAgICAgICAgICAgICAgICAgICBpY29uOiBuZXcgTC5JY29uLkRlZmF1bHQoKQogICAgICAgICAgICAgICAgICAgIH0KICAgICAgICAgICAgICAgICkKICAgICAgICAgICAgICAgIC5hZGRUbyhtYXBfMDk2MjlkZjE5YzkwNDJiNTg1NGY4MTUzZWYzMjZlODYpOwogICAgICAgICAgICAKICAgIAoKICAgICAgICAgICAgdmFyIG1hcmtlcl84Njk3NjNhY2I3Mjc0OGQ1YjAyZjQ4ODAzNWNlZDUyYiA9IEwubWFya2VyKAogICAgICAgICAgICAgICAgWzQwLjg2ODY2NzUsLTgyLjMxODIxNzhdLAogICAgICAgICAgICAgICAgewogICAgICAgICAgICAgICAgICAgIGljb246IG5ldyBMLkljb24uRGVmYXVsdCgpCiAgICAgICAgICAgICAgICAgICAgfQogICAgICAgICAgICAgICAgKQogICAgICAgICAgICAgICAgLmFkZFRvKG1hcF8wOTYyOWRmMTljOTA0MmI1ODU0ZjgxNTNlZjMyNmU4Nik7CiAgICAgICAgICAgIAogICAgCgogICAgICAgICAgICB2YXIgbWFya2VyX2JiM2RmZmVlOWU1ZDQxN2U4ZWRiYmZjZjhiNjMyOTEwID0gTC5tYXJrZXIoCiAgICAgICAgICAgICAgICBbNDYuMTg3ODg0MSwtMTIzLjgzMTI1MzRdLAogICAgICAgICAgICAgICAgewogICAgICAgICAgICAgICAgICAgIGljb246IG5ldyBMLkljb24uRGVmYXVsdCgpCiAgICAgICAgICAgICAgICAgICAgfQogICAgICAgICAgICAgICAgKQogICAgICAgICAgICAgICAgLmFkZFRvKG1hcF8wOTYyOWRmMTljOTA0MmI1ODU0ZjgxNTNlZjMyNmU4Nik7CiAgICAgICAgICAgIAogICAgCgogICAgICAgICAgICB2YXIgbWFya2VyXzY5YmYyZjg5OTRjZjRiZDU4NjllOGQ4M2VkZWIyMDZhID0gTC5tYXJrZXIoCiAgICAgICAgICAgICAgICBbMzkuNTYzMDUyMSwtOTUuMTIxNjM1NTk5OTk5OTldLAogICAgICAgICAgICAgICAgewogICAgICAgICAgICAgICAgICAgIGljb246IG5ldyBMLkljb24uRGVmYXVsdCgpCiAgICAgICAgICAgICAgICAgICAgfQogICAgICAgICAgICAgICAgKQogICAgICAgICAgICAgICAgLmFkZFRvKG1hcF8wOTYyOWRmMTljOTA0MmI1ODU0ZjgxNTNlZjMyNmU4Nik7CiAgICAgICAgICAgIAogICAgCgogICAgICAgICAgICB2YXIgbWFya2VyX2UxZTdkNzk1YzBlZjRjNTNhYzBlMDk1ZGYzMjJkMGU5ID0gTC5tYXJrZXIoCiAgICAgICAgICAgICAgICBbNDAuMjY1OTI2OSwtOTYuNzQ2NjkxM10sCiAgICAgICAgICAgICAgICB7CiAgICAgICAgICAgICAgICAgICAgaWNvbjogbmV3IEwuSWNvbi5EZWZhdWx0KCkKICAgICAgICAgICAgICAgICAgICB9CiAgICAgICAgICAgICAgICApCiAgICAgICAgICAgICAgICAuYWRkVG8obWFwXzA5NjI5ZGYxOWM5MDQyYjU4NTRmODE1M2VmMzI2ZTg2KTsKICAgICAgICAgICAgCiAgICAKCiAgICAgICAgICAgIHZhciBtYXJrZXJfZjcxNjRkNmZhZDcyNGUxN2I4YmQ4Njk2YzRhNGFiM2EgPSBMLm1hcmtlcigKICAgICAgICAgICAgICAgIFs0Ny40NzE1NzMsLTk0Ljg4MjY4NjFdLAogICAgICAgICAgICAgICAgewogICAgICAgICAgICAgICAgICAgIGljb246IG5ldyBMLkljb24uRGVmYXVsdCgpCiAgICAgICAgICAgICAgICAgICAgfQogICAgICAgICAgICAgICAgKQogICAgICAgICAgICAgICAgLmFkZFRvKG1hcF8wOTYyOWRmMTljOTA0MmI1ODU0ZjgxNTNlZjMyNmU4Nik7CiAgICAgICAgICAgIAogICAgCgogICAgICAgICAgICB2YXIgbWFya2VyXzNlM2E0MzM2MTk1YzQ2YTNiYmYyMWFmZDAxYTY2MWQxID0gTC5tYXJrZXIoCiAgICAgICAgICAgICAgICBbNDMuNjk4MDc4MiwtODUuNDgzNjU1N10sCiAgICAgICAgICAgICAgICB7CiAgICAgICAgICAgICAgICAgICAgaWNvbjogbmV3IEwuSWNvbi5EZWZhdWx0KCkKICAgICAgICAgICAgICAgICAgICB9CiAgICAgICAgICAgICAgICApCiAgICAgICAgICAgICAgICAuYWRkVG8obWFwXzA5NjI5ZGYxOWM5MDQyYjU4NTRmODE1M2VmMzI2ZTg2KTsKICAgICAgICAgICAgCiAgICAKCiAgICAgICAgICAgIHZhciBtYXJrZXJfNGIwMWI3MWM1MzYwNGJiNTkwMGQxYTAxM2VkMjY5MTggPSBMLm1hcmtlcigKICAgICAgICAgICAgICAgIFszNi4yMTY3OTUsLTgxLjY3NDU1MTddLAogICAgICAgICAgICAgICAgewogICAgICAgICAgICAgICAgICAgIGljb246IG5ldyBMLkljb24uRGVmYXVsdCgpCiAgICAgICAgICAgICAgICAgICAgfQogICAgICAgICAgICAgICAgKQogICAgICAgICAgICAgICAgLmFkZFRvKG1hcF8wOTYyOWRmMTljOTA0MmI1ODU0ZjgxNTNlZjMyNmU4Nik7CiAgICAgICAgICAgIAogICAgCgogICAgICAgICAgICB2YXIgbWFya2VyXzg3MGJiZjA2MjBiZTRiMGRiYTQ0MzM4NTNmNWM0MzQyID0gTC5tYXJrZXIoCiAgICAgICAgICAgICAgICBbMzkuNDgxNjUzNywtMTA2LjAzODM1MThdLAogICAgICAgICAgICAgICAgewogICAgICAgICAgICAgICAgICAgIGljb246IG5ldyBMLkljb24uRGVmYXVsdCgpCiAgICAgICAgICAgICAgICAgICAgfQogICAgICAgICAgICAgICAgKQogICAgICAgICAgICAgICAgLmFkZFRvKG1hcF8wOTYyOWRmMTljOTA0MmI1ODU0ZjgxNTNlZjMyNmU4Nik7CiAgICAgICAgICAgIAogICAgCgogICAgICAgICAgICB2YXIgbWFya2VyXzczMWRmOGVmMjdiYTQ2ZTdiYzVkMmEyYTBlNTE3NjhhID0gTC5tYXJrZXIoCiAgICAgICAgICAgICAgICBbMzkuNDgxNjUzNywtMTA2LjAzODM1MThdLAogICAgICAgICAgICAgICAgewogICAgICAgICAgICAgICAgICAgIGljb246IG5ldyBMLkljb24uRGVmYXVsdCgpCiAgICAgICAgICAgICAgICAgICAgfQogICAgICAgICAgICAgICAgKQogICAgICAgICAgICAgICAgLmFkZFRvKG1hcF8wOTYyOWRmMTljOTA0MmI1ODU0ZjgxNTNlZjMyNmU4Nik7CiAgICAgICAgICAgIAogICAgCgogICAgICAgICAgICB2YXIgbWFya2VyX2NhZTRmZWRkNDUzYTRhOGE4NTYxZDBlYjhlMmE1MmU3ID0gTC5tYXJrZXIoCiAgICAgICAgICAgICAgICBbMzkuNDgxNjUzNywtMTA2LjAzODM1MThdLAogICAgICAgICAgICAgICAgewogICAgICAgICAgICAgICAgICAgIGljb246IG5ldyBMLkljb24uRGVmYXVsdCgpCiAgICAgICAgICAgICAgICAgICAgfQogICAgICAgICAgICAgICAgKQogICAgICAgICAgICAgICAgLmFkZFRvKG1hcF8wOTYyOWRmMTljOTA0MmI1ODU0ZjgxNTNlZjMyNmU4Nik7CiAgICAgICAgICAgIAogICAgCgogICAgICAgICAgICB2YXIgbWFya2VyX2FjOGE1NWYxNjU1MTRkYTJiMGM1ZjFiMDM3NDQ2MzIzID0gTC5tYXJrZXIoCiAgICAgICAgICAgICAgICBbNDQuMzExMzU3MywtOTYuNzk4Mzg3Njk5OTk5OTldLAogICAgICAgICAgICAgICAgewogICAgICAgICAgICAgICAgICAgIGljb246IG5ldyBMLkljb24uRGVmYXVsdCgpCiAgICAgICAgICAgICAgICAgICAgfQogICAgICAgICAgICAgICAgKQogICAgICAgICAgICAgICAgLmFkZFRvKG1hcF8wOTYyOWRmMTljOTA0MmI1ODU0ZjgxNTNlZjMyNmU4Nik7CiAgICAgICAgICAgIAogICAgCgogICAgICAgICAgICB2YXIgbWFya2VyX2YxMDlmMzFlNGRlYjRmZGE5Njk5YTRiZjJkNTU3Yzc5ID0gTC5tYXJrZXIoCiAgICAgICAgICAgICAgICBbMzkuMTYzNzk4NCwtMTE5Ljc2NzQwMzRdLAogICAgICAgICAgICAgICAgewogICAgICAgICAgICAgICAgICAgIGljb246IG5ldyBMLkljb24uRGVmYXVsdCgpCiAgICAgICAgICAgICAgICAgICAgfQogICAgICAgICAgICAgICAgKQogICAgICAgICAgICAgICAgLmFkZFRvKG1hcF8wOTYyOWRmMTljOTA0MmI1ODU0ZjgxNTNlZjMyNmU4Nik7CiAgICAgICAgICAgIAogICAgCgogICAgICAgICAgICB2YXIgbWFya2VyX2EyYzQyOTA0N2Y2YzQ2NTFhZTQzYTc4ODY1YmFmM2E4ID0gTC5tYXJrZXIoCiAgICAgICAgICAgICAgICBbMzAuNDEyNTg2LC04Ny4yMTU2NzNdLAogICAgICAgICAgICAgICAgewogICAgICAgICAgICAgICAgICAgIGljb246IG5ldyBMLkljb24uRGVmYXVsdCgpCiAgICAgICAgICAgICAgICAgICAgfQogICAgICAgICAgICAgICAgKQogICAgICAgICAgICAgICAgLmFkZFRvKG1hcF8wOTYyOWRmMTljOTA0MmI1ODU0ZjgxNTNlZjMyNmU4Nik7CiAgICAgICAgICAgIAogICAgCgogICAgICAgICAgICB2YXIgbWFya2VyXzJjOTBiYmI4OTA4YTRiNTM4MGY5YjA3MWFlNTMyYjFlID0gTC5tYXJrZXIoCiAgICAgICAgICAgICAgICBbMzAuNDEyNTg2LC04Ny4yMTU2NzNdLAogICAgICAgICAgICAgICAgewogICAgICAgICAgICAgICAgICAgIGljb246IG5ldyBMLkljb24uRGVmYXVsdCgpCiAgICAgICAgICAgICAgICAgICAgfQogICAgICAgICAgICAgICAgKQogICAgICAgICAgICAgICAgLmFkZFRvKG1hcF8wOTYyOWRmMTljOTA0MmI1ODU0ZjgxNTNlZjMyNmU4Nik7CiAgICAgICAgICAgIAogICAgCgogICAgICAgICAgICB2YXIgbWFya2VyXzVlZDA2NTkwNTQ3NjRhYzg5N2FkM2QwMGJhNzljZWIxID0gTC5tYXJrZXIoCiAgICAgICAgICAgICAgICBbMzMuNDk1Njc0NCwtODguNDI3MjYyN10sCiAgICAgICAgICAgICAgICB7CiAgICAgICAgICAgICAgICAgICAgaWNvbjogbmV3IEwuSWNvbi5EZWZhdWx0KCkKICAgICAgICAgICAgICAgICAgICB9CiAgICAgICAgICAgICAgICApCiAgICAgICAgICAgICAgICAuYWRkVG8obWFwXzA5NjI5ZGYxOWM5MDQyYjU4NTRmODE1M2VmMzI2ZTg2KTsKICAgICAgICAgICAgCiAgICAKCiAgICAgICAgICAgIHZhciBtYXJrZXJfMTY1NTIwY2I5YjEyNDQ1YWJiNjY2NzRlOWIwM2JiYWUgPSBMLm1hcmtlcigKICAgICAgICAgICAgICAgIFszNS45NDg5NTY2LC04NS4wMjY5MDE0XSwKICAgICAgICAgICAgICAgIHsKICAgICAgICAgICAgICAgICAgICBpY29uOiBuZXcgTC5JY29uLkRlZmF1bHQoKQogICAgICAgICAgICAgICAgICAgIH0KICAgICAgICAgICAgICAgICkKICAgICAgICAgICAgICAgIC5hZGRUbyhtYXBfMDk2MjlkZjE5YzkwNDJiNTg1NGY4MTUzZWYzMjZlODYpOwogICAgICAgICAgICAKICAgIAoKICAgICAgICAgICAgdmFyIG1hcmtlcl9hYmQ1NmY5YTY2MDU0NTU3YWU5OThkOTQzYTFiODEzMiA9IEwubWFya2VyKAogICAgICAgICAgICAgICAgWzM1LjQ5Mzk1ODcsLTg1LjAxMjQ1MzQ5OTk5OTk5XSwKICAgICAgICAgICAgICAgIHsKICAgICAgICAgICAgICAgICAgICBpY29uOiBuZXcgTC5JY29uLkRlZmF1bHQoKQogICAgICAgICAgICAgICAgICAgIH0KICAgICAgICAgICAgICAgICkKICAgICAgICAgICAgICAgIC5hZGRUbyhtYXBfMDk2MjlkZjE5YzkwNDJiNTg1NGY4MTUzZWYzMjZlODYpOwogICAgICAgICAgICAKPC9zY3JpcHQ+\" style=\"position:absolute;width:100%;height:100%;left:0;top:0;border:none !important;\" allowfullscreen webkitallowfullscreen mozallowfullscreen></iframe></div></div>", 
                        "text/plain": "<folium.folium.Map at 0x7f77b26bfd30>"
                    }, 
                    "output_type": "execute_result"
                }
            ], 
            "source": "map = folium.Map(location=[39.8, -98.6], zoom_start=10)\nvenues_df_top.apply(lambda row:folium.Marker(location=[row[\"Latitude\"], \n                                                  row[\"Longitude\"]]).add_to(map),\n     axis=1)\nmap"
        }, 
        {
            "execution_count": 26, 
            "cell_type": "code", 
            "metadata": {}, 
            "outputs": [
                {
                    "execution_count": 26, 
                    "metadata": {}, 
                    "data": {
                        "text/html": "<div>\n<style scoped>\n    .dataframe tbody tr th:only-of-type {\n        vertical-align: middle;\n    }\n\n    .dataframe tbody tr th {\n        vertical-align: top;\n    }\n\n    .dataframe thead th {\n        text-align: right;\n    }\n</style>\n<table border=\"1\" class=\"dataframe\">\n  <thead>\n    <tr style=\"text-align: right;\">\n      <th></th>\n      <th>Latitude</th>\n      <th>Longitude</th>\n      <th>Venue Name</th>\n      <th>Venue Type</th>\n    </tr>\n  </thead>\n  <tbody>\n    <tr>\n      <th>0</th>\n      <td>43.378920</td>\n      <td>-84.659727</td>\n      <td>L.E.A.N.</td>\n      <td>Gym / Fitness Center</td>\n    </tr>\n    <tr>\n      <th>1</th>\n      <td>34.637765</td>\n      <td>-99.334044</td>\n      <td>Gym Virtual</td>\n      <td>Athletics &amp; Sports</td>\n    </tr>\n    <tr>\n      <th>2</th>\n      <td>32.072386</td>\n      <td>-84.232688</td>\n      <td>Caravelle Boat Group, LLC.</td>\n      <td>Harbor / Marina</td>\n    </tr>\n    <tr>\n      <th>3</th>\n      <td>32.072386</td>\n      <td>-84.232688</td>\n      <td>Workout Joe's</td>\n      <td>Gym / Fitness Center</td>\n    </tr>\n    <tr>\n      <th>4</th>\n      <td>41.634773</td>\n      <td>-84.999409</td>\n      <td>Fitt4life</td>\n      <td>Gym</td>\n    </tr>\n    <tr>\n      <th>5</th>\n      <td>34.174261</td>\n      <td>-97.143625</td>\n      <td>Deaver Lawn Care</td>\n      <td>Garden</td>\n    </tr>\n    <tr>\n      <th>6</th>\n      <td>34.174261</td>\n      <td>-97.143625</td>\n      <td>The Pumpkin Patch at Woodbine Farms</td>\n      <td>Farm</td>\n    </tr>\n    <tr>\n      <th>7</th>\n      <td>40.868668</td>\n      <td>-82.318218</td>\n      <td>Family Pools &amp; Spas</td>\n      <td>Pool</td>\n    </tr>\n    <tr>\n      <th>8</th>\n      <td>40.868668</td>\n      <td>-82.318218</td>\n      <td>The Corner Park.</td>\n      <td>Park</td>\n    </tr>\n    <tr>\n      <th>9</th>\n      <td>46.187884</td>\n      <td>-123.831253</td>\n      <td>Garden of Surging Waves</td>\n      <td>Park</td>\n    </tr>\n    <tr>\n      <th>10</th>\n      <td>39.563052</td>\n      <td>-95.121636</td>\n      <td>Insular Gym</td>\n      <td>Gym</td>\n    </tr>\n    <tr>\n      <th>11</th>\n      <td>40.265927</td>\n      <td>-96.746691</td>\n      <td>Stinson park</td>\n      <td>Soccer Field</td>\n    </tr>\n    <tr>\n      <th>12</th>\n      <td>47.471573</td>\n      <td>-94.882686</td>\n      <td>Voyageur Shotokan Karate</td>\n      <td>Martial Arts Dojo</td>\n    </tr>\n    <tr>\n      <th>13</th>\n      <td>43.698078</td>\n      <td>-85.483656</td>\n      <td>Spa Plus Inc.</td>\n      <td>Pool</td>\n    </tr>\n    <tr>\n      <th>14</th>\n      <td>36.216795</td>\n      <td>-81.674552</td>\n      <td>Grandmother Boulders</td>\n      <td>Rock Climbing Spot</td>\n    </tr>\n    <tr>\n      <th>15</th>\n      <td>39.481654</td>\n      <td>-106.038352</td>\n      <td>Carter Park</td>\n      <td>Park</td>\n    </tr>\n    <tr>\n      <th>16</th>\n      <td>39.481654</td>\n      <td>-106.038352</td>\n      <td>Ski Bus</td>\n      <td>Mountain</td>\n    </tr>\n    <tr>\n      <th>17</th>\n      <td>39.481654</td>\n      <td>-106.038352</td>\n      <td>BALDY MOUNTAIN PEAK, 13114FT</td>\n      <td>Mountain</td>\n    </tr>\n    <tr>\n      <th>18</th>\n      <td>44.311357</td>\n      <td>-96.798388</td>\n      <td>Powershop Gym</td>\n      <td>Gym</td>\n    </tr>\n    <tr>\n      <th>19</th>\n      <td>39.163798</td>\n      <td>-119.767403</td>\n      <td>Blackwell's Pond Park</td>\n      <td>Park</td>\n    </tr>\n    <tr>\n      <th>20</th>\n      <td>30.412586</td>\n      <td>-87.215673</td>\n      <td>Ride Society</td>\n      <td>Gym / Fitness Center</td>\n    </tr>\n    <tr>\n      <th>21</th>\n      <td>30.412586</td>\n      <td>-87.215673</td>\n      <td>Virginia College Patio</td>\n      <td>Plaza</td>\n    </tr>\n    <tr>\n      <th>22</th>\n      <td>33.495674</td>\n      <td>-88.427263</td>\n      <td>Omega Hills Farm</td>\n      <td>Farm</td>\n    </tr>\n    <tr>\n      <th>23</th>\n      <td>35.948957</td>\n      <td>-85.026901</td>\n      <td>Stevie's Elite Athletics</td>\n      <td>Gymnastics Gym</td>\n    </tr>\n    <tr>\n      <th>24</th>\n      <td>35.493959</td>\n      <td>-85.012453</td>\n      <td>T Wall</td>\n      <td>Rock Climbing Spot</td>\n    </tr>\n  </tbody>\n</table>\n</div>", 
                        "text/plain": "     Latitude   Longitude                           Venue Name  \\\n0   43.378920  -84.659727                             L.E.A.N.   \n1   34.637765  -99.334044                          Gym Virtual   \n2   32.072386  -84.232688           Caravelle Boat Group, LLC.   \n3   32.072386  -84.232688                        Workout Joe's   \n4   41.634773  -84.999409                            Fitt4life   \n5   34.174261  -97.143625                     Deaver Lawn Care   \n6   34.174261  -97.143625  The Pumpkin Patch at Woodbine Farms   \n7   40.868668  -82.318218                  Family Pools & Spas   \n8   40.868668  -82.318218                     The Corner Park.   \n9   46.187884 -123.831253              Garden of Surging Waves   \n10  39.563052  -95.121636                          Insular Gym   \n11  40.265927  -96.746691                         Stinson park   \n12  47.471573  -94.882686             Voyageur Shotokan Karate   \n13  43.698078  -85.483656                        Spa Plus Inc.   \n14  36.216795  -81.674552                 Grandmother Boulders   \n15  39.481654 -106.038352                          Carter Park   \n16  39.481654 -106.038352                              Ski Bus   \n17  39.481654 -106.038352         BALDY MOUNTAIN PEAK, 13114FT   \n18  44.311357  -96.798388                        Powershop Gym   \n19  39.163798 -119.767403                Blackwell's Pond Park   \n20  30.412586  -87.215673                         Ride Society   \n21  30.412586  -87.215673               Virginia College Patio   \n22  33.495674  -88.427263                     Omega Hills Farm   \n23  35.948957  -85.026901             Stevie's Elite Athletics   \n24  35.493959  -85.012453                               T Wall   \n\n              Venue Type  \n0   Gym / Fitness Center  \n1     Athletics & Sports  \n2        Harbor / Marina  \n3   Gym / Fitness Center  \n4                    Gym  \n5                 Garden  \n6                   Farm  \n7                   Pool  \n8                   Park  \n9                   Park  \n10                   Gym  \n11          Soccer Field  \n12     Martial Arts Dojo  \n13                  Pool  \n14    Rock Climbing Spot  \n15                  Park  \n16              Mountain  \n17              Mountain  \n18                   Gym  \n19                  Park  \n20  Gym / Fitness Center  \n21                 Plaza  \n22                  Farm  \n23        Gymnastics Gym  \n24    Rock Climbing Spot  "
                    }, 
                    "output_type": "execute_result"
                }
            ], 
            "source": "venues_df.head(25)"
        }
    ], 
    "metadata": {
        "kernelspec": {
            "display_name": "Python 3.6", 
            "name": "python3", 
            "language": "python"
        }, 
        "language_info": {
            "mimetype": "text/x-python", 
            "nbconvert_exporter": "python", 
            "version": "3.6.8", 
            "name": "python", 
            "file_extension": ".py", 
            "pygments_lexer": "ipython3", 
            "codemirror_mode": {
                "version": 3, 
                "name": "ipython"
            }
        }
    }, 
    "nbformat": 4
}